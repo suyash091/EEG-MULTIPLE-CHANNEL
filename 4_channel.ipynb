{
  "nbformat": 4,
  "nbformat_minor": 0,
  "metadata": {
    "colab": {
      "name": "4 channel",
      "provenance": [],
      "collapsed_sections": [],
      "include_colab_link": true
    },
    "kernelspec": {
      "name": "python3",
      "display_name": "Python 3"
    },
    "accelerator": "GPU"
  },
  "cells": [
    {
      "cell_type": "markdown",
      "metadata": {
        "id": "view-in-github",
        "colab_type": "text"
      },
      "source": [
        "<a href=\"https://colab.research.google.com/github/suyash091/EEG-MULTIPLE-CHANNEL/blob/master/4_channel.ipynb\" target=\"_parent\"><img src=\"https://colab.research.google.com/assets/colab-badge.svg\" alt=\"Open In Colab\"/></a>"
      ]
    },
    {
      "cell_type": "code",
      "metadata": {
        "id": "TSn_lpRRR69U",
        "colab_type": "code",
        "outputId": "a44b3095-71f0-4446-8841-baa4efab3912",
        "colab": {
          "base_uri": "https://localhost:8080/",
          "height": 155
        }
      },
      "source": [
        "from google.colab import drive\n",
        "drive.mount('/content/drive')"
      ],
      "execution_count": 0,
      "outputs": [
        {
          "output_type": "stream",
          "text": [
            "Go to this URL in a browser: https://accounts.google.com/o/oauth2/auth?client_id=947318989803-6bn6qk8qdgf4n4g3pfee6491hc0brc4i.apps.googleusercontent.com&redirect_uri=urn%3aietf%3awg%3aoauth%3a2.0%3aoob&response_type=code&scope=email%20https%3a%2f%2fwww.googleapis.com%2fauth%2fdocs.test%20https%3a%2f%2fwww.googleapis.com%2fauth%2fdrive%20https%3a%2f%2fwww.googleapis.com%2fauth%2fdrive.photos.readonly%20https%3a%2f%2fwww.googleapis.com%2fauth%2fpeopleapi.readonly\n",
            "\n",
            "Enter your authorization code:\n",
            "··········\n",
            "Mounted at /content/drive\n"
          ],
          "name": "stdout"
        }
      ]
    },
    {
      "cell_type": "code",
      "metadata": {
        "id": "PUdjA403bIvo",
        "colab_type": "code",
        "outputId": "c31e7a19-2426-48b4-96a4-f9068f5ac736",
        "colab": {
          "base_uri": "https://localhost:8080/",
          "height": 136
        }
      },
      "source": [
        "!git clone https://github.com/tfjgeorge/ml-project.git"
      ],
      "execution_count": 0,
      "outputs": [
        {
          "output_type": "stream",
          "text": [
            "Cloning into 'ml-project'...\n",
            "remote: Enumerating objects: 141, done.\u001b[K\n",
            "remote: Counting objects:   0% (1/141)\u001b[K\rremote: Counting objects:   1% (2/141)\u001b[K\rremote: Counting objects:   2% (3/141)\u001b[K\rremote: Counting objects:   3% (5/141)\u001b[K\rremote: Counting objects:   4% (6/141)\u001b[K\rremote: Counting objects:   5% (8/141)\u001b[K\rremote: Counting objects:   6% (9/141)\u001b[K\rremote: Counting objects:   7% (10/141)\u001b[K\rremote: Counting objects:   8% (12/141)\u001b[K\rremote: Counting objects:   9% (13/141)\u001b[K\rremote: Counting objects:  10% (15/141)\u001b[K\rremote: Counting objects:  11% (16/141)\u001b[K\rremote: Counting objects:  12% (17/141)\u001b[K\rremote: Counting objects:  13% (19/141)\u001b[K\rremote: Counting objects:  14% (20/141)\u001b[K\rremote: Counting objects:  15% (22/141)\u001b[K\rremote: Counting objects:  16% (23/141)\u001b[K\rremote: Counting objects:  17% (24/141)\u001b[K\rremote: Counting objects:  18% (26/141)\u001b[K\rremote: Counting objects:  19% (27/141)\u001b[K\rremote: Counting objects:  20% (29/141)\u001b[K\rremote: Counting objects:  21% (30/141)\u001b[K\rremote: Counting objects:  22% (32/141)\u001b[K\rremote: Counting objects:  23% (33/141)\u001b[K\rremote: Counting objects:  24% (34/141)\u001b[K\rremote: Counting objects:  25% (36/141)\u001b[K\rremote: Counting objects:  26% (37/141)\u001b[K\rremote: Counting objects:  27% (39/141)\u001b[K\rremote: Counting objects:  28% (40/141)\u001b[K\rremote: Counting objects:  29% (41/141)\u001b[K\rremote: Counting objects:  30% (43/141)\u001b[K\rremote: Counting objects:  31% (44/141)\u001b[K\rremote: Counting objects:  32% (46/141)\u001b[K\rremote: Counting objects:  33% (47/141)\u001b[K\rremote: Counting objects:  34% (48/141)\u001b[K\rremote: Counting objects:  35% (50/141)\u001b[K\rremote: Counting objects:  36% (51/141)\u001b[K\rremote: Counting objects:  37% (53/141)\u001b[K\rremote: Counting objects:  38% (54/141)\u001b[K\rremote: Counting objects:  39% (55/141)\u001b[K\rremote: Counting objects:  40% (57/141)\u001b[K\rremote: Counting objects:  41% (58/141)\u001b[K\rremote: Counting objects:  42% (60/141)\u001b[K\rremote: Counting objects:  43% (61/141)\u001b[K\rremote: Counting objects:  44% (63/141)\u001b[K\rremote: Counting objects:  45% (64/141)\u001b[K\rremote: Counting objects:  46% (65/141)\u001b[K\rremote: Counting objects:  47% (67/141)\u001b[K\rremote: Counting objects:  48% (68/141)\u001b[K\rremote: Counting objects:  49% (70/141)\u001b[K\rremote: Counting objects:  50% (71/141)\u001b[K\rremote: Counting objects:  51% (72/141)\u001b[K\rremote: Counting objects:  52% (74/141)\u001b[K\rremote: Counting objects:  53% (75/141)\u001b[K\rremote: Counting objects:  54% (77/141)\u001b[K\rremote: Counting objects:  55% (78/141)\u001b[K\rremote: Counting objects:  56% (79/141)\u001b[K\rremote: Counting objects:  57% (81/141)\u001b[K\rremote: Counting objects:  58% (82/141)\u001b[K\rremote: Counting objects:  59% (84/141)\u001b[K\rremote: Counting objects:  60% (85/141)\u001b[K\rremote: Counting objects:  61% (87/141)\u001b[K\rremote: Counting objects:  62% (88/141)\u001b[K\rremote: Counting objects:  63% (89/141)\u001b[K\rremote: Counting objects:  64% (91/141)\u001b[K\rremote: Counting objects:  65% (92/141)\u001b[K\rremote: Counting objects:  66% (94/141)\u001b[K\rremote: Counting objects:  67% (95/141)\u001b[K\rremote: Counting objects:  68% (96/141)\u001b[K\rremote: Counting objects:  69% (98/141)\u001b[K\rremote: Counting objects:  70% (99/141)\u001b[K\rremote: Counting objects:  71% (101/141)\u001b[K\rremote: Counting objects:  72% (102/141)\u001b[K\rremote: Counting objects:  73% (103/141)\u001b[K\rremote: Counting objects:  74% (105/141)\u001b[K\rremote: Counting objects:  75% (106/141)\u001b[K\rremote: Counting objects:  76% (108/141)\u001b[K\rremote: Counting objects:  77% (109/141)\u001b[K\rremote: Counting objects:  78% (110/141)\u001b[K\rremote: Counting objects:  79% (112/141)\u001b[K\rremote: Counting objects:  80% (113/141)\u001b[K\rremote: Counting objects:  81% (115/141)\u001b[K\rremote: Counting objects:  82% (116/141)\u001b[K\rremote: Counting objects:  83% (118/141)\u001b[K\rremote: Counting objects:  84% (119/141)\u001b[K\rremote: Counting objects:  85% (120/141)\u001b[K\rremote: Counting objects:  86% (122/141)\u001b[K\rremote: Counting objects:  87% (123/141)\u001b[K\rremote: Counting objects:  88% (125/141)\u001b[K\rremote: Counting objects:  89% (126/141)\u001b[K\rremote: Counting objects:  90% (127/141)\u001b[K\rremote: Counting objects:  91% (129/141)\u001b[K\rremote: Counting objects:  92% (130/141)\u001b[K\rremote: Counting objects:  93% (132/141)\u001b[K\rremote: Counting objects:  94% (133/141)\u001b[K\rremote: Counting objects:  95% (134/141)\u001b[K\rremote: Counting objects:  96% (136/141)\u001b[K\rremote: Counting objects:  97% (137/141)\u001b[K\rremote: Counting objects:  98% (139/141)\u001b[K\rremote: Counting objects:  99% (140/141)\u001b[K\rremote: Counting objects: 100% (141/141)\u001b[K\rremote: Counting objects: 100% (141/141), done.\u001b[K\n",
            "remote: Compressing objects: 100% (80/80), done.\u001b[K\n",
            "remote: Total 141 (delta 54), reused 141 (delta 54), pack-reused 0\u001b[K\n",
            "Receiving objects: 100% (141/141), 4.42 MiB | 7.28 MiB/s, done.\n",
            "Resolving deltas: 100% (54/54), done.\n"
          ],
          "name": "stdout"
        }
      ]
    },
    {
      "cell_type": "code",
      "metadata": {
        "id": "Dvyoh6y4R2sM",
        "colab_type": "code",
        "colab": {}
      },
      "source": [
        "!mv '/content/ml-project' '/content/drive/My Drive'"
      ],
      "execution_count": 0,
      "outputs": []
    },
    {
      "cell_type": "code",
      "metadata": {
        "id": "KzIj3jfiToVa",
        "colab_type": "code",
        "colab": {}
      },
      "source": [
        "from os.path import isfile\n",
        "import zipfile\n",
        "import numpy as np\n",
        "import random\n",
        "\n",
        "dataset_path = './data/EP.zip'\n",
        "\n",
        "def get_dataset_file():\n",
        "    if not isfile(dataset_path):\n",
        "        import urllib\n",
        "        origin = (\n",
        "            'http://www.mindbigdata.com/opendb/MindBigData-MU-v1.0.zip'\n",
        "        )\n",
        "        print('Downloading data from %s' % origin)\n",
        "        urlretrieve(origin, dataset_path)\n",
        "    return open(dataset_path, 'rb')\n",
        "\n",
        "def get_datasets():\n",
        "    f = get_dataset_file()\n",
        "    zf = zipfile.ZipFile(f)\n",
        "        \n",
        "    data = [ line for line in zf.open('MU.txt')]\n",
        "    entire_dataset = []\n",
        "    current_event = np.zeros(512 * 4 + 2)\n",
        "    \n",
        "    print('Reading data file')\n",
        "    i = 0\n",
        "\n",
        "    for l in data:\n",
        "        ids, event, device, channel, code, size, data = l.decode(\"utf-8\").split('\\t')\n",
        "\n",
        "        signals = np.array([int(val) for val in data.split(',')])\n",
        "        \n",
        "        current_event[1+ i*512:1+ i*512 + min(len(signals), 512)] = signals[:512]\n",
        "        i += 1\n",
        "\n",
        "        if i == 4: # we assume all channels from an event are in sequence\n",
        "            current_event[-1] = int(code)\n",
        "            current_event[0] = min(len(signals), 512)\n",
        "\n",
        "            entire_dataset.append(current_event)\n",
        "            current_event = np.zeros(512 * 4 + 2)\n",
        "            i = 0\n",
        "\n",
        "    random.seed(111) # deterministic\n",
        "    random.shuffle(entire_dataset)\n",
        "\n",
        "    entire_dataset = np.array(entire_dataset)\n",
        "    return entire_dataset[:30000], entire_dataset[30000:]\n",
        "\n",
        "def split_into_subsequences(data, n_sequences, length):\n",
        "    output = np.zeros((data.shape[0]*n_sequences, length*14+1))\n",
        "    for i in range(data.shape[0]):\n",
        "        if n_sequences == 1:\n",
        "            steps = 0\n",
        "        else:\n",
        "            steps = (data[i, 0] - length) / (n_sequences - 1)\n",
        "\n",
        "        for j in range(n_sequences):\n",
        "            output[i*n_sequences+j,:length]           = data[i, j*steps: j*steps+length]\n",
        "            output[i*n_sequences+j,length:length*2]   = data[i, j*steps+512: j*steps+512+length]\n",
        "            output[i*n_sequences+j,length*2:length*3] = data[i, j*steps+512*2: j*steps+512*2+length]\n",
        "            output[i*n_sequences+j,length*3:length*4] = data[i, j*steps+512*3: j*steps+512*3+length]\n",
        "            output[i*n_sequences+j,-1] = data[i, -1]\n",
        "\n",
        "    return output"
      ],
      "execution_count": 0,
      "outputs": []
    },
    {
      "cell_type": "code",
      "metadata": {
        "id": "3_cVlZ8IV8ZA",
        "colab_type": "code",
        "colab": {}
      },
      "source": [
        "\n",
        "import numpy as np\n",
        "%matplotlib inline\n",
        "import matplotlib.pyplot as plt\n",
        "from sklearn.neighbors import KNeighborsClassifier\n",
        "from sklearn.decomposition import PCA\n",
        "from sklearn import metrics\n",
        "from sklearn.metrics import confusion_matrix\n",
        "from urllib.request import urlretrieve\n",
        "#from sklearn.gaussian_process import GaussianProcess"
      ],
      "execution_count": 0,
      "outputs": []
    },
    {
      "cell_type": "code",
      "metadata": {
        "id": "IMX3T-Ijytvm",
        "colab_type": "code",
        "outputId": "fa0cf3d5-7309-4f42-b128-c9890df6d624",
        "colab": {
          "base_uri": "https://localhost:8080/",
          "height": 34
        }
      },
      "source": [
        "(25/2050)*3586"
      ],
      "execution_count": 0,
      "outputs": [
        {
          "output_type": "execute_result",
          "data": {
            "text/plain": [
              "43.73170731707317"
            ]
          },
          "metadata": {
            "tags": []
          },
          "execution_count": 76
        }
      ]
    },
    {
      "cell_type": "code",
      "metadata": {
        "id": "4SfQ4Uj5WKt6",
        "colab_type": "code",
        "outputId": "58c9608c-be42-4cc1-e5cf-4899aa40c571",
        "colab": {
          "base_uri": "https://localhost:8080/",
          "height": 94
        }
      },
      "source": [
        "train, test = get_datasets()\n",
        "print(train.shape)\n",
        "print(test.shape)"
      ],
      "execution_count": 15,
      "outputs": [
        {
          "output_type": "stream",
          "text": [
            "Reading data file\n",
            "(30000, 2050)\n",
            "(10983, 2050)\n"
          ],
          "name": "stdout"
        }
      ]
    },
    {
      "cell_type": "code",
      "metadata": {
        "id": "SxAGTmMoas0B",
        "colab_type": "code",
        "colab": {}
      },
      "source": [
        "#train = train[:int(len(train)/3),:]\n",
        "#test = test[:int(len(test)/3), :]\n",
        "\n",
        "#train[train[:,-1] >= 0,-1] =  0\n",
        "#test[test[:,-1] >= 0,-1] =  0\n",
        "\n",
        "#train[:,-1] = train[:,-1] + 1\n",
        "#test[:,-1] = test[:,-1] + 1\n",
        "\n",
        "train_target = train[:,-1]\n",
        "test_target = test[:,-1]\n",
        "\n",
        "DECISIONBOUNDARY = 0"
      ],
      "execution_count": 0,
      "outputs": []
    },
    {
      "cell_type": "code",
      "metadata": {
        "id": "oUiNeWc8bXpq",
        "colab_type": "code",
        "colab": {}
      },
      "source": [
        "#FastFourierTransformation apply to the sets using the 4 sensors\n",
        "\n",
        "train_f = np.zeros(train.shape)\n",
        "\n",
        "for i in range(len(train_f)):\n",
        "    length = train[i][0]\n",
        "    train_f[i][0] = train[i][0]\n",
        "    train_f[i][-1] = train[i][-1]\n",
        "    \n",
        "    for j in range(4):\n",
        "        train_f[int(i)][int(1+512*j):int(1+512*j+length)] = np.abs(np.fft.fft(train[int(i)][int(1+512*j):int(1+512*j+length)]))\n",
        "        \n",
        "test_f = np.zeros(test.shape)\n",
        "\n",
        "for i in range(len(test_f)):\n",
        "    length = test[i,0]\n",
        "    test_f[i,0] = test[i,0]\n",
        "    test_f[i,-1] = test[i,-1]\n",
        "    \n",
        "    for j in range(4):\n",
        "        test_f[i][int(1+512*j):int(1+512*j+length)] = np.abs(np.fft.fft(test[i][int(1+512*j):int(1+512*j+length)]))"
      ],
      "execution_count": 0,
      "outputs": []
    },
    {
      "cell_type": "code",
      "metadata": {
        "id": "q0HUola9estn",
        "colab_type": "code",
        "colab": {}
      },
      "source": [
        "#PCA with 25 components\n",
        "pca = PCA(n_components = 250)\n",
        "train_principal = pca.fit_transform(train_f)\n",
        "test_principal = pca.transform(test_f)"
      ],
      "execution_count": 0,
      "outputs": []
    },
    {
      "cell_type": "code",
      "metadata": {
        "id": "B3x20RyvfLzt",
        "colab_type": "code",
        "outputId": "844037e5-6025-499c-fd3f-ee2decc814f5",
        "colab": {
          "base_uri": "https://localhost:8080/",
          "height": 74
        }
      },
      "source": [
        "test_principal.shape"
      ],
      "execution_count": 20,
      "outputs": [
        {
          "output_type": "execute_result",
          "data": {
            "text/plain": [
              "(10983, 50)"
            ]
          },
          "metadata": {
            "tags": []
          },
          "execution_count": 20
        }
      ]
    },
    {
      "cell_type": "code",
      "metadata": {
        "id": "Oa2uH-JLex6w",
        "colab_type": "code",
        "outputId": "1e1fb58b-ee31-40da-e7aa-9fce3339f4e8",
        "colab": {
          "base_uri": "https://localhost:8080/",
          "height": 454
        }
      },
      "source": [
        "#KNN\n",
        "erreur = []\n",
        "x = np.arange(1,20,1)\n",
        "for n in (x):\n",
        "    # train set\n",
        "    neigh = KNeighborsClassifier(n_neighbors=n)\n",
        "    neigh.fit(train_principal, train[:,-1])\n",
        "\n",
        "    #test set\n",
        "    total_correct = 0\n",
        "    for i in range(test_principal.shape[0]):\n",
        "        if neigh.predict(test_principal[i].reshape(1, -1))[0] == test[i,-1]:\n",
        "            total_correct += 1\n",
        "\n",
        "    erreur.append(float(total_correct) / test_principal.shape[0] * 100)\n",
        "    print('Pourcentage correct %d:' % n, float(total_correct) / test_principal.shape[0] * 100)"
      ],
      "execution_count": 23,
      "outputs": [
        {
          "output_type": "stream",
          "text": [
            "Pourcentage correct 1: 34.30756623873258\n",
            "Pourcentage correct 2: 34.43503596467268\n",
            "Pourcentage correct 3: 34.389511062551215\n",
            "Pourcentage correct 4: 34.20741145406537\n",
            "Pourcentage correct 5: 34.489665847218426\n",
            "Pourcentage correct 6: 34.55340071018848\n",
            "Pourcentage correct 7: 34.36219612127834\n",
            "Pourcentage correct 8: 34.45324592552126\n",
            "Pourcentage correct 9: 34.50787580806701\n",
            "Pourcentage correct 10: 34.56250569061277\n",
            "Pourcentage correct 11: 34.55340071018848\n",
            "Pourcentage correct 12: 34.480560866794136\n",
            "Pourcentage correct 13: 34.25293635618684\n",
            "Pourcentage correct 14: 34.09815168897387\n",
            "Pourcentage correct 15: 34.34398616042976\n",
            "Pourcentage correct 16: 34.398616042975505\n",
            "Pourcentage correct 17: 34.389511062551215\n",
            "Pourcentage correct 18: 34.54429572976418\n",
            "Pourcentage correct 19: 34.49877082764272\n"
          ],
          "name": "stdout"
        }
      ]
    },
    {
      "cell_type": "code",
      "metadata": {
        "id": "Q7jwgi5LUWTR",
        "colab_type": "code",
        "colab": {}
      },
      "source": [
        "#Import models from scikit learn module:\n",
        "from sklearn.linear_model import LogisticRegression\n",
        "from sklearn.model_selection import KFold   #For K-fold cross validation\n",
        "from sklearn.ensemble import RandomForestClassifier, RandomForestRegressor\n",
        "from sklearn.svm import SVC\n",
        "from sklearn.tree import DecisionTreeClassifier, export_graphviz\n",
        "from sklearn import metrics\n",
        "import numpy as np\n",
        "from sklearn.metrics import roc_curve, auc, precision_score, confusion_matrix, explained_variance_score, max_error, mean_absolute_error, mean_squared_error\n",
        "from sklearn.linear_model import LogisticRegression, LinearRegression, Ridge, Lasso"
      ],
      "execution_count": 0,
      "outputs": []
    },
    {
      "cell_type": "code",
      "metadata": {
        "id": "LBuH2OlaNfVK",
        "colab_type": "code",
        "outputId": "1217fc6d-f33e-429c-ad4a-880daaad54b4",
        "colab": {
          "base_uri": "https://localhost:8080/",
          "height": 250
        }
      },
      "source": [
        "\n",
        "model = RandomForestClassifier(n_estimators=100)\n",
        "model.fit(train_principal,train[:,-1])\n",
        "\n",
        "\n",
        "predictions = model.predict(test_principal)\n",
        "prc=precision_score(predictions,test[:,-1], average=None)\n",
        "cfm=confusion_matrix(predictions,test[:,-1])\n",
        "accuracy = metrics.accuracy_score(predictions,test[:,-1])\n",
        "print(prc,cfm,accuracy)\n",
        "#print(explained_variance_score(predictions,test))\n",
        "#print(max_error(predictions,test))\n",
        "#print(mean_absolute_error(predictions, test, multioutput='raw_values'))\n",
        "#print(mean_squared_error(predictions, test, multioutput='raw_values'))"
      ],
      "execution_count": 28,
      "outputs": [
        {
          "output_type": "stream",
          "text": [
            "[1.         0.10314465 0.07177033 0.11417817 0.09452736 0.08168643\n",
            " 0.10606061 0.0955335  0.09156627 0.09137709 0.07826087] [[2982   39   36   36   34   34   33   41   34   34   33]\n",
            " [   0   82   89   92   78   94   75   88  107   90  100]\n",
            " [   0   61   60   66   67   70   69   70   66   65   67]\n",
            " [   0  104   97   91   84   76   97   90   84   84   97]\n",
            " [   0   55   82   74   76   69   95   79   64   88   78]\n",
            " [   0   78   65   81   72   62   45   62   83   60   71]\n",
            " [   0   69   83   81   87   74   84   88   87   69   80]\n",
            " [   0   91   77   87   93   78   85   77   80   78   75]\n",
            " [   0   71   73   64   76   60   70   63   76   57   66]\n",
            " [   0   81   96   71   76   94   72   87   82   71   75]\n",
            " [   0   64   78   54   61   48   67   61   67   81   63]] 0.33906947100063733\n"
          ],
          "name": "stdout"
        }
      ]
    },
    {
      "cell_type": "code",
      "metadata": {
        "id": "4VmdNhb9P5vt",
        "colab_type": "code",
        "outputId": "ce533721-1889-4f0e-e538-b123c6f4bfd1",
        "colab": {
          "base_uri": "https://localhost:8080/",
          "height": 335
        }
      },
      "source": [
        "model = LogisticRegression()\n",
        "model.fit(train_principal,train[:,-1])\n",
        "\n",
        "\n",
        "predictions = model.predict(test_principal)\n",
        "prc=precision_score(predictions,test[:,-1], average=None)\n",
        "cfm=confusion_matrix(predictions,test[:,-1])\n",
        "accuracy = metrics.accuracy_score(predictions,test[:,-1])\n",
        "print(prc,cfm,accuracy)"
      ],
      "execution_count": 30,
      "outputs": [
        {
          "output_type": "stream",
          "text": [
            "/usr/local/lib/python3.6/dist-packages/sklearn/linear_model/logistic.py:432: FutureWarning: Default solver will be changed to 'lbfgs' in 0.22. Specify a solver to silence this warning.\n",
            "  FutureWarning)\n",
            "/usr/local/lib/python3.6/dist-packages/sklearn/linear_model/logistic.py:469: FutureWarning: Default multi_class will be changed to 'auto' in 0.22. Specify the multi_class option to silence this warning.\n",
            "  \"this warning.\", FutureWarning)\n"
          ],
          "name": "stderr"
        },
        {
          "output_type": "stream",
          "text": [
            "[1.         0.18238994 0.15789474 0.05771644 0.08457711 0.085639\n",
            " 0.06313131 0.08436725 0.14819277 0.12612613 0.02981366] [[2982    1    0    1    0    0    0    0    0    0    0]\n",
            " [   0  145  129  123  123  115  126  141  128  121  120]\n",
            " [   0  125  132  129  136  116  133  117  121  128  137]\n",
            " [   0   56   50   46   61   44   53   44   60   71   41]\n",
            " [   0   65   63   81   68   69   67   60   82   69   76]\n",
            " [   0   57   63   68   54   65   58   64   63   59   63]\n",
            " [   0   69   92   59   59   57   50   82   75   51   66]\n",
            " [   0   69   60   64   53   70   71   68   79   57   71]\n",
            " [   0  117  109  108  130  109  116  121  123  102  117]\n",
            " [   0   70  104   94   95   87   92   79   71   98   90]\n",
            " [   0   21   34   24   25   27   26   30   28   21   24]] 0.34608030592734224\n"
          ],
          "name": "stdout"
        },
        {
          "output_type": "stream",
          "text": [
            "/usr/local/lib/python3.6/dist-packages/sklearn/svm/base.py:929: ConvergenceWarning: Liblinear failed to converge, increase the number of iterations.\n",
            "  \"the number of iterations.\", ConvergenceWarning)\n"
          ],
          "name": "stderr"
        }
      ]
    },
    {
      "cell_type": "code",
      "metadata": {
        "id": "7TViapOiVIiv",
        "colab_type": "code",
        "outputId": "40acbbea-43b8-420d-9496-35a916e3584d",
        "colab": {
          "base_uri": "https://localhost:8080/",
          "height": 125
        }
      },
      "source": [
        "model = LinearRegression()\n",
        "model.fit(train_principal,train[:,-1])\n",
        "\n",
        "\n",
        "predictions = model.predict(test_principal)\n",
        "#prc=precision_score(predictions,test[:,-1], average=None)\n",
        "print(explained_variance_score(predictions,test[:,-1]))\n",
        "print(max_error(predictions,test[:,-1]))\n",
        "print(mean_absolute_error(predictions, test[:,-1], multioutput='raw_values'))\n",
        "print(mean_squared_error(predictions, test[:,-1], multioutput='raw_values'))"
      ],
      "execution_count": 31,
      "outputs": [
        {
          "output_type": "stream",
          "text": [
            "-0.28568281533273665\n",
            "39.534290805500724\n",
            "[2.17300996]\n",
            "[7.33731258]\n"
          ],
          "name": "stdout"
        }
      ]
    },
    {
      "cell_type": "code",
      "metadata": {
        "id": "ORuksRV_V5jD",
        "colab_type": "code",
        "outputId": "b3a69529-1707-4eb5-ba95-9755d51a6384",
        "colab": {
          "base_uri": "https://localhost:8080/",
          "height": 145
        }
      },
      "source": [
        "model = RandomForestRegressor()\n",
        "model.fit(train_principal,train[:,-1])\n",
        "\n",
        "\n",
        "predictions = model.predict(test_principal)\n",
        "print(explained_variance_score(predictions,test[:,-1]))\n",
        "print(max_error(predictions,test[:,-1]))\n",
        "print(mean_absolute_error(predictions, test[:,-1], multioutput='raw_values'))\n",
        "print(mean_squared_error(predictions, test[:,-1], multioutput='raw_values'))"
      ],
      "execution_count": 32,
      "outputs": [
        {
          "output_type": "stream",
          "text": [
            "/usr/local/lib/python3.6/dist-packages/sklearn/ensemble/forest.py:245: FutureWarning: The default value of n_estimators will change from 10 in version 0.20 to 100 in 0.22.\n",
            "  \"10 in version 0.20 to 100 in 0.22.\", FutureWarning)\n"
          ],
          "name": "stderr"
        },
        {
          "output_type": "stream",
          "text": [
            "-0.08226809646697086\n",
            "9.3\n",
            "[1.95390148]\n",
            "[6.88876354]\n"
          ],
          "name": "stdout"
        }
      ]
    },
    {
      "cell_type": "code",
      "metadata": {
        "id": "oG9txCVFX8cq",
        "colab_type": "code",
        "outputId": "252a8929-75bd-4b9e-c869-a495c5178f62",
        "colab": {
          "base_uri": "https://localhost:8080/",
          "height": 201
        }
      },
      "source": [
        "from __future__ import absolute_import, division, print_function, unicode_literals\n",
        "\n",
        "import tensorflow as tf\n",
        "import numpy as np\n",
        "\n",
        "!pip install scipy\n",
        "from scipy import signal"
      ],
      "execution_count": 35,
      "outputs": [
        {
          "output_type": "display_data",
          "data": {
            "text/html": [
              "<p style=\"color: red;\">\n",
              "The default version of TensorFlow in Colab will soon switch to TensorFlow 2.x.<br>\n",
              "We recommend you <a href=\"https://www.tensorflow.org/guide/migrate\" target=\"_blank\">upgrade</a> now \n",
              "or ensure your notebook will continue to use TensorFlow 1.x via the <code>%tensorflow_version 1.x</code> magic:\n",
              "<a href=\"https://colab.research.google.com/notebooks/tensorflow_version.ipynb\" target=\"_blank\">more info</a>.</p>\n"
            ],
            "text/plain": [
              "<IPython.core.display.HTML object>"
            ]
          },
          "metadata": {
            "tags": []
          }
        },
        {
          "output_type": "stream",
          "text": [
            "Requirement already satisfied: scipy in /usr/local/lib/python3.6/dist-packages (1.3.2)\n",
            "Requirement already satisfied: numpy>=1.13.3 in /usr/local/lib/python3.6/dist-packages (from scipy) (1.17.4)\n"
          ],
          "name": "stdout"
        }
      ]
    },
    {
      "cell_type": "code",
      "metadata": {
        "id": "0HKaceEAV88n",
        "colab_type": "code",
        "outputId": "2821295b-06c2-4a4d-bc83-e5ba59c92cc1",
        "colab": {
          "base_uri": "https://localhost:8080/",
          "height": 436
        }
      },
      "source": [
        "model = tf.keras.models.Sequential()\n",
        "model.add(tf.keras.layers.Dense(1024, input_dim=250, activation='relu'))\n",
        "model.add(tf.keras.layers.Dense(4096, activation='relu'))\n",
        "model.add(tf.keras.layers.Dropout(0.25))\n",
        "model.add(tf.keras.layers.Dense(4096, activation='relu'))\n",
        "model.add(tf.keras.layers.Dropout(0.25))\n",
        "model.add(tf.keras.layers.Dense(4096, activation='relu'))\n",
        "model.add(tf.keras.layers.Dense(11, activation='softmax'))\n",
        "alpha = 2e-3\n",
        "batch_size = 256\n",
        "num_epochs = 3000\n",
        "model.compile(\n",
        "      optimizer='Adam' ,\n",
        "      loss=tf.keras.losses.sparse_categorical_crossentropy,\n",
        "      metrics=['sparse_categorical_accuracy', 'accuracy']\n",
        "  )\n",
        "\n",
        "History = model.fit(\n",
        "      x = train_principal,\n",
        "      y = train[:,-1],\n",
        "      batch_size = batch_size,\n",
        "      epochs=num_epochs,\n",
        "      #validation_data = (x_valid, y_valid),\n",
        "      #callbacks = [checkPointer,tensorBoard]\n",
        "  )\n",
        "predictions = model.predict(test_principal)"
      ],
      "execution_count": 37,
      "outputs": [
        {
          "output_type": "stream",
          "text": [
            "30000/30000 [==============================] - 5s 170us/sample - loss: nan - sparse_categorical_accuracy: 0.0727 - acc: 0.0727\n",
            "Epoch 67/3000\n",
            "11520/30000 [==========>...................] - ETA: 3s - loss: nan - sparse_categorical_accuracy: 0.0696 - acc: 0.0696"
          ],
          "name": "stdout"
        },
        {
          "output_type": "error",
          "ename": "KeyboardInterrupt",
          "evalue": "ignored",
          "traceback": [
            "\u001b[0;31m---------------------------------------------------------------------------\u001b[0m",
            "\u001b[0;31mKeyboardInterrupt\u001b[0m                         Traceback (most recent call last)",
            "\u001b[0;32m<ipython-input-37-01209f078890>\u001b[0m in \u001b[0;36m<module>\u001b[0;34m()\u001b[0m\n\u001b[1;32m     20\u001b[0m       \u001b[0my\u001b[0m \u001b[0;34m=\u001b[0m \u001b[0mtrain\u001b[0m\u001b[0;34m[\u001b[0m\u001b[0;34m:\u001b[0m\u001b[0;34m,\u001b[0m\u001b[0;34m-\u001b[0m\u001b[0;36m1\u001b[0m\u001b[0;34m]\u001b[0m\u001b[0;34m,\u001b[0m\u001b[0;34m\u001b[0m\u001b[0;34m\u001b[0m\u001b[0m\n\u001b[1;32m     21\u001b[0m       \u001b[0mbatch_size\u001b[0m \u001b[0;34m=\u001b[0m \u001b[0mbatch_size\u001b[0m\u001b[0;34m,\u001b[0m\u001b[0;34m\u001b[0m\u001b[0;34m\u001b[0m\u001b[0m\n\u001b[0;32m---> 22\u001b[0;31m       \u001b[0mepochs\u001b[0m\u001b[0;34m=\u001b[0m\u001b[0mnum_epochs\u001b[0m\u001b[0;34m,\u001b[0m\u001b[0;34m\u001b[0m\u001b[0;34m\u001b[0m\u001b[0m\n\u001b[0m\u001b[1;32m     23\u001b[0m       \u001b[0;31m#validation_data = (x_valid, y_valid),\u001b[0m\u001b[0;34m\u001b[0m\u001b[0;34m\u001b[0m\u001b[0;34m\u001b[0m\u001b[0m\n\u001b[1;32m     24\u001b[0m       \u001b[0;31m#callbacks = [checkPointer,tensorBoard]\u001b[0m\u001b[0;34m\u001b[0m\u001b[0;34m\u001b[0m\u001b[0;34m\u001b[0m\u001b[0m\n",
            "\u001b[0;32m/usr/local/lib/python3.6/dist-packages/tensorflow_core/python/keras/engine/training.py\u001b[0m in \u001b[0;36mfit\u001b[0;34m(self, x, y, batch_size, epochs, verbose, callbacks, validation_split, validation_data, shuffle, class_weight, sample_weight, initial_epoch, steps_per_epoch, validation_steps, validation_freq, max_queue_size, workers, use_multiprocessing, **kwargs)\u001b[0m\n\u001b[1;32m    725\u001b[0m         \u001b[0mmax_queue_size\u001b[0m\u001b[0;34m=\u001b[0m\u001b[0mmax_queue_size\u001b[0m\u001b[0;34m,\u001b[0m\u001b[0;34m\u001b[0m\u001b[0;34m\u001b[0m\u001b[0m\n\u001b[1;32m    726\u001b[0m         \u001b[0mworkers\u001b[0m\u001b[0;34m=\u001b[0m\u001b[0mworkers\u001b[0m\u001b[0;34m,\u001b[0m\u001b[0;34m\u001b[0m\u001b[0;34m\u001b[0m\u001b[0m\n\u001b[0;32m--> 727\u001b[0;31m         use_multiprocessing=use_multiprocessing)\n\u001b[0m\u001b[1;32m    728\u001b[0m \u001b[0;34m\u001b[0m\u001b[0m\n\u001b[1;32m    729\u001b[0m   def evaluate(self,\n",
            "\u001b[0;32m/usr/local/lib/python3.6/dist-packages/tensorflow_core/python/keras/engine/training_arrays.py\u001b[0m in \u001b[0;36mfit\u001b[0;34m(self, model, x, y, batch_size, epochs, verbose, callbacks, validation_split, validation_data, shuffle, class_weight, sample_weight, initial_epoch, steps_per_epoch, validation_steps, validation_freq, **kwargs)\u001b[0m\n\u001b[1;32m    673\u001b[0m         \u001b[0mvalidation_steps\u001b[0m\u001b[0;34m=\u001b[0m\u001b[0mvalidation_steps\u001b[0m\u001b[0;34m,\u001b[0m\u001b[0;34m\u001b[0m\u001b[0;34m\u001b[0m\u001b[0m\n\u001b[1;32m    674\u001b[0m         \u001b[0mvalidation_freq\u001b[0m\u001b[0;34m=\u001b[0m\u001b[0mvalidation_freq\u001b[0m\u001b[0;34m,\u001b[0m\u001b[0;34m\u001b[0m\u001b[0;34m\u001b[0m\u001b[0m\n\u001b[0;32m--> 675\u001b[0;31m         steps_name='steps_per_epoch')\n\u001b[0m\u001b[1;32m    676\u001b[0m \u001b[0;34m\u001b[0m\u001b[0m\n\u001b[1;32m    677\u001b[0m   def evaluate(self,\n",
            "\u001b[0;32m/usr/local/lib/python3.6/dist-packages/tensorflow_core/python/keras/engine/training_arrays.py\u001b[0m in \u001b[0;36mmodel_iteration\u001b[0;34m(model, inputs, targets, sample_weights, batch_size, epochs, verbose, callbacks, val_inputs, val_targets, val_sample_weights, shuffle, initial_epoch, steps_per_epoch, validation_steps, validation_freq, mode, validation_in_fit, prepared_feed_values_from_dataset, steps_name, **kwargs)\u001b[0m\n\u001b[1;32m    404\u001b[0m         \u001b[0mbatch_logs\u001b[0m \u001b[0;34m=\u001b[0m \u001b[0mcbks\u001b[0m\u001b[0;34m.\u001b[0m\u001b[0mmake_logs\u001b[0m\u001b[0;34m(\u001b[0m\u001b[0mmodel\u001b[0m\u001b[0;34m,\u001b[0m \u001b[0mbatch_logs\u001b[0m\u001b[0;34m,\u001b[0m \u001b[0mbatch_outs\u001b[0m\u001b[0;34m,\u001b[0m \u001b[0mmode\u001b[0m\u001b[0;34m)\u001b[0m\u001b[0;34m\u001b[0m\u001b[0;34m\u001b[0m\u001b[0m\n\u001b[1;32m    405\u001b[0m         \u001b[0mcallbacks\u001b[0m\u001b[0;34m.\u001b[0m\u001b[0m_call_batch_hook\u001b[0m\u001b[0;34m(\u001b[0m\u001b[0mmode\u001b[0m\u001b[0;34m,\u001b[0m \u001b[0;34m'end'\u001b[0m\u001b[0;34m,\u001b[0m \u001b[0mbatch_index\u001b[0m\u001b[0;34m,\u001b[0m \u001b[0mbatch_logs\u001b[0m\u001b[0;34m)\u001b[0m\u001b[0;34m\u001b[0m\u001b[0;34m\u001b[0m\u001b[0m\n\u001b[0;32m--> 406\u001b[0;31m         \u001b[0mprogbar\u001b[0m\u001b[0;34m.\u001b[0m\u001b[0mon_batch_end\u001b[0m\u001b[0;34m(\u001b[0m\u001b[0mbatch_index\u001b[0m\u001b[0;34m,\u001b[0m \u001b[0mbatch_logs\u001b[0m\u001b[0;34m)\u001b[0m\u001b[0;34m\u001b[0m\u001b[0;34m\u001b[0m\u001b[0m\n\u001b[0m\u001b[1;32m    407\u001b[0m \u001b[0;34m\u001b[0m\u001b[0m\n\u001b[1;32m    408\u001b[0m         \u001b[0;32mif\u001b[0m \u001b[0mcallbacks\u001b[0m\u001b[0;34m.\u001b[0m\u001b[0mmodel\u001b[0m\u001b[0;34m.\u001b[0m\u001b[0mstop_training\u001b[0m\u001b[0;34m:\u001b[0m\u001b[0;34m\u001b[0m\u001b[0;34m\u001b[0m\u001b[0m\n",
            "\u001b[0;32m/usr/local/lib/python3.6/dist-packages/tensorflow_core/python/keras/callbacks.py\u001b[0m in \u001b[0;36mon_batch_end\u001b[0;34m(self, batch, logs)\u001b[0m\n\u001b[1;32m    759\u001b[0m     \u001b[0;31m# will be handled by on_epoch_end.\u001b[0m\u001b[0;34m\u001b[0m\u001b[0;34m\u001b[0m\u001b[0;34m\u001b[0m\u001b[0m\n\u001b[1;32m    760\u001b[0m     \u001b[0;32mif\u001b[0m \u001b[0mself\u001b[0m\u001b[0;34m.\u001b[0m\u001b[0mverbose\u001b[0m \u001b[0;32mand\u001b[0m \u001b[0;34m(\u001b[0m\u001b[0mself\u001b[0m\u001b[0;34m.\u001b[0m\u001b[0mtarget\u001b[0m \u001b[0;32mis\u001b[0m \u001b[0;32mNone\u001b[0m \u001b[0;32mor\u001b[0m \u001b[0mself\u001b[0m\u001b[0;34m.\u001b[0m\u001b[0mseen\u001b[0m \u001b[0;34m<\u001b[0m \u001b[0mself\u001b[0m\u001b[0;34m.\u001b[0m\u001b[0mtarget\u001b[0m\u001b[0;34m)\u001b[0m\u001b[0;34m:\u001b[0m\u001b[0;34m\u001b[0m\u001b[0;34m\u001b[0m\u001b[0m\n\u001b[0;32m--> 761\u001b[0;31m       \u001b[0mself\u001b[0m\u001b[0;34m.\u001b[0m\u001b[0mprogbar\u001b[0m\u001b[0;34m.\u001b[0m\u001b[0mupdate\u001b[0m\u001b[0;34m(\u001b[0m\u001b[0mself\u001b[0m\u001b[0;34m.\u001b[0m\u001b[0mseen\u001b[0m\u001b[0;34m,\u001b[0m \u001b[0mself\u001b[0m\u001b[0;34m.\u001b[0m\u001b[0mlog_values\u001b[0m\u001b[0;34m)\u001b[0m\u001b[0;34m\u001b[0m\u001b[0;34m\u001b[0m\u001b[0m\n\u001b[0m\u001b[1;32m    762\u001b[0m \u001b[0;34m\u001b[0m\u001b[0m\n\u001b[1;32m    763\u001b[0m   \u001b[0;32mdef\u001b[0m \u001b[0mon_epoch_end\u001b[0m\u001b[0;34m(\u001b[0m\u001b[0mself\u001b[0m\u001b[0;34m,\u001b[0m \u001b[0mepoch\u001b[0m\u001b[0;34m,\u001b[0m \u001b[0mlogs\u001b[0m\u001b[0;34m=\u001b[0m\u001b[0;32mNone\u001b[0m\u001b[0;34m)\u001b[0m\u001b[0;34m:\u001b[0m\u001b[0;34m\u001b[0m\u001b[0;34m\u001b[0m\u001b[0m\n",
            "\u001b[0;32m/usr/local/lib/python3.6/dist-packages/tensorflow_core/python/keras/utils/generic_utils.py\u001b[0m in \u001b[0;36mupdate\u001b[0;34m(self, current, values)\u001b[0m\n\u001b[1;32m    454\u001b[0m \u001b[0;34m\u001b[0m\u001b[0m\n\u001b[1;32m    455\u001b[0m       \u001b[0msys\u001b[0m\u001b[0;34m.\u001b[0m\u001b[0mstdout\u001b[0m\u001b[0;34m.\u001b[0m\u001b[0mwrite\u001b[0m\u001b[0;34m(\u001b[0m\u001b[0minfo\u001b[0m\u001b[0;34m)\u001b[0m\u001b[0;34m\u001b[0m\u001b[0;34m\u001b[0m\u001b[0m\n\u001b[0;32m--> 456\u001b[0;31m       \u001b[0msys\u001b[0m\u001b[0;34m.\u001b[0m\u001b[0mstdout\u001b[0m\u001b[0;34m.\u001b[0m\u001b[0mflush\u001b[0m\u001b[0;34m(\u001b[0m\u001b[0;34m)\u001b[0m\u001b[0;34m\u001b[0m\u001b[0;34m\u001b[0m\u001b[0m\n\u001b[0m\u001b[1;32m    457\u001b[0m \u001b[0;34m\u001b[0m\u001b[0m\n\u001b[1;32m    458\u001b[0m     \u001b[0;32melif\u001b[0m \u001b[0mself\u001b[0m\u001b[0;34m.\u001b[0m\u001b[0mverbose\u001b[0m \u001b[0;34m==\u001b[0m \u001b[0;36m2\u001b[0m\u001b[0;34m:\u001b[0m\u001b[0;34m\u001b[0m\u001b[0;34m\u001b[0m\u001b[0m\n",
            "\u001b[0;32m/usr/local/lib/python3.6/dist-packages/ipykernel/iostream.py\u001b[0m in \u001b[0;36mflush\u001b[0;34m(self)\u001b[0m\n\u001b[1;32m    319\u001b[0m             \u001b[0mevt\u001b[0m \u001b[0;34m=\u001b[0m \u001b[0mthreading\u001b[0m\u001b[0;34m.\u001b[0m\u001b[0mEvent\u001b[0m\u001b[0;34m(\u001b[0m\u001b[0;34m)\u001b[0m\u001b[0;34m\u001b[0m\u001b[0;34m\u001b[0m\u001b[0m\n\u001b[1;32m    320\u001b[0m             \u001b[0mself\u001b[0m\u001b[0;34m.\u001b[0m\u001b[0mpub_thread\u001b[0m\u001b[0;34m.\u001b[0m\u001b[0mschedule\u001b[0m\u001b[0;34m(\u001b[0m\u001b[0mevt\u001b[0m\u001b[0;34m.\u001b[0m\u001b[0mset\u001b[0m\u001b[0;34m)\u001b[0m\u001b[0;34m\u001b[0m\u001b[0;34m\u001b[0m\u001b[0m\n\u001b[0;32m--> 321\u001b[0;31m             \u001b[0mevt\u001b[0m\u001b[0;34m.\u001b[0m\u001b[0mwait\u001b[0m\u001b[0;34m(\u001b[0m\u001b[0;34m)\u001b[0m\u001b[0;34m\u001b[0m\u001b[0;34m\u001b[0m\u001b[0m\n\u001b[0m\u001b[1;32m    322\u001b[0m         \u001b[0;32melse\u001b[0m\u001b[0;34m:\u001b[0m\u001b[0;34m\u001b[0m\u001b[0;34m\u001b[0m\u001b[0m\n\u001b[1;32m    323\u001b[0m             \u001b[0mself\u001b[0m\u001b[0;34m.\u001b[0m\u001b[0m_flush\u001b[0m\u001b[0;34m(\u001b[0m\u001b[0;34m)\u001b[0m\u001b[0;34m\u001b[0m\u001b[0;34m\u001b[0m\u001b[0m\n",
            "\u001b[0;32m/usr/lib/python3.6/threading.py\u001b[0m in \u001b[0;36mwait\u001b[0;34m(self, timeout)\u001b[0m\n\u001b[1;32m    549\u001b[0m             \u001b[0msignaled\u001b[0m \u001b[0;34m=\u001b[0m \u001b[0mself\u001b[0m\u001b[0;34m.\u001b[0m\u001b[0m_flag\u001b[0m\u001b[0;34m\u001b[0m\u001b[0;34m\u001b[0m\u001b[0m\n\u001b[1;32m    550\u001b[0m             \u001b[0;32mif\u001b[0m \u001b[0;32mnot\u001b[0m \u001b[0msignaled\u001b[0m\u001b[0;34m:\u001b[0m\u001b[0;34m\u001b[0m\u001b[0;34m\u001b[0m\u001b[0m\n\u001b[0;32m--> 551\u001b[0;31m                 \u001b[0msignaled\u001b[0m \u001b[0;34m=\u001b[0m \u001b[0mself\u001b[0m\u001b[0;34m.\u001b[0m\u001b[0m_cond\u001b[0m\u001b[0;34m.\u001b[0m\u001b[0mwait\u001b[0m\u001b[0;34m(\u001b[0m\u001b[0mtimeout\u001b[0m\u001b[0;34m)\u001b[0m\u001b[0;34m\u001b[0m\u001b[0;34m\u001b[0m\u001b[0m\n\u001b[0m\u001b[1;32m    552\u001b[0m             \u001b[0;32mreturn\u001b[0m \u001b[0msignaled\u001b[0m\u001b[0;34m\u001b[0m\u001b[0;34m\u001b[0m\u001b[0m\n\u001b[1;32m    553\u001b[0m \u001b[0;34m\u001b[0m\u001b[0m\n",
            "\u001b[0;32m/usr/lib/python3.6/threading.py\u001b[0m in \u001b[0;36mwait\u001b[0;34m(self, timeout)\u001b[0m\n\u001b[1;32m    293\u001b[0m         \u001b[0;32mtry\u001b[0m\u001b[0;34m:\u001b[0m    \u001b[0;31m# restore state no matter what (e.g., KeyboardInterrupt)\u001b[0m\u001b[0;34m\u001b[0m\u001b[0;34m\u001b[0m\u001b[0m\n\u001b[1;32m    294\u001b[0m             \u001b[0;32mif\u001b[0m \u001b[0mtimeout\u001b[0m \u001b[0;32mis\u001b[0m \u001b[0;32mNone\u001b[0m\u001b[0;34m:\u001b[0m\u001b[0;34m\u001b[0m\u001b[0;34m\u001b[0m\u001b[0m\n\u001b[0;32m--> 295\u001b[0;31m                 \u001b[0mwaiter\u001b[0m\u001b[0;34m.\u001b[0m\u001b[0macquire\u001b[0m\u001b[0;34m(\u001b[0m\u001b[0;34m)\u001b[0m\u001b[0;34m\u001b[0m\u001b[0;34m\u001b[0m\u001b[0m\n\u001b[0m\u001b[1;32m    296\u001b[0m                 \u001b[0mgotit\u001b[0m \u001b[0;34m=\u001b[0m \u001b[0;32mTrue\u001b[0m\u001b[0;34m\u001b[0m\u001b[0;34m\u001b[0m\u001b[0m\n\u001b[1;32m    297\u001b[0m             \u001b[0;32melse\u001b[0m\u001b[0;34m:\u001b[0m\u001b[0;34m\u001b[0m\u001b[0;34m\u001b[0m\u001b[0m\n",
            "\u001b[0;31mKeyboardInterrupt\u001b[0m: "
          ]
        }
      ]
    },
    {
      "cell_type": "code",
      "metadata": {
        "id": "ILxEVRvIZQqQ",
        "colab_type": "code",
        "colab": {}
      },
      "source": [
        ""
      ],
      "execution_count": 0,
      "outputs": []
    }
  ]
}