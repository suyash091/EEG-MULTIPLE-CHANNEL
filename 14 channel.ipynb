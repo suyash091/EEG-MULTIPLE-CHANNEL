{
  "nbformat": 4,
  "nbformat_minor": 0,
  "metadata": {
    "colab": {
      "name": "14 channel",
      "provenance": [],
      "collapsed_sections": [],
      "include_colab_link": true
    },
    "kernelspec": {
      "name": "python3",
      "display_name": "Python 3"
    },
    "accelerator": "GPU"
  },
  "cells": [
    {
      "cell_type": "markdown",
      "metadata": {
        "id": "view-in-github",
        "colab_type": "text"
      },
      "source": [
        "<a href=\"https://colab.research.google.com/github/suyash091/EEG-MULTIPLE-CHANNEL/blob/master/14%20channel.ipynb\" target=\"_parent\"><img src=\"https://colab.research.google.com/assets/colab-badge.svg\" alt=\"Open In Colab\"/></a>"
      ]
    },
    {
      "cell_type": "code",
      "metadata": {
        "id": "TSn_lpRRR69U",
        "colab_type": "code",
        "colab": {
          "base_uri": "https://localhost:8080/",
          "height": 142
        },
        "outputId": "d3eeff89-2d6a-49c2-866d-c4b3521e1099"
      },
      "source": [
        "from google.colab import drive\n",
        "drive.mount('/content/drive')"
      ],
      "execution_count": 2,
      "outputs": [
        {
          "output_type": "stream",
          "text": [
            "Go to this URL in a browser: https://accounts.google.com/o/oauth2/auth?client_id=947318989803-6bn6qk8qdgf4n4g3pfee6491hc0brc4i.apps.googleusercontent.com&redirect_uri=urn%3aietf%3awg%3aoauth%3a2.0%3aoob&response_type=code&scope=email%20https%3a%2f%2fwww.googleapis.com%2fauth%2fdocs.test%20https%3a%2f%2fwww.googleapis.com%2fauth%2fdrive%20https%3a%2f%2fwww.googleapis.com%2fauth%2fdrive.photos.readonly%20https%3a%2f%2fwww.googleapis.com%2fauth%2fpeopleapi.readonly\n",
            "\n",
            "Enter your authorization code:\n",
            "··········\n",
            "Mounted at /content/drive\n"
          ],
          "name": "stdout"
        }
      ]
    },
    {
      "cell_type": "code",
      "metadata": {
        "id": "PUdjA403bIvo",
        "colab_type": "code",
        "colab": {
          "base_uri": "https://localhost:8080/",
          "height": 136
        },
        "outputId": "c31e7a19-2426-48b4-96a4-f9068f5ac736"
      },
      "source": [
        "!git clone https://github.com/tfjgeorge/ml-project.git"
      ],
      "execution_count": 1,
      "outputs": [
        {
          "output_type": "stream",
          "text": [
            "Cloning into 'ml-project'...\n",
            "remote: Enumerating objects: 141, done.\u001b[K\n",
            "remote: Counting objects:   0% (1/141)\u001b[K\rremote: Counting objects:   1% (2/141)\u001b[K\rremote: Counting objects:   2% (3/141)\u001b[K\rremote: Counting objects:   3% (5/141)\u001b[K\rremote: Counting objects:   4% (6/141)\u001b[K\rremote: Counting objects:   5% (8/141)\u001b[K\rremote: Counting objects:   6% (9/141)\u001b[K\rremote: Counting objects:   7% (10/141)\u001b[K\rremote: Counting objects:   8% (12/141)\u001b[K\rremote: Counting objects:   9% (13/141)\u001b[K\rremote: Counting objects:  10% (15/141)\u001b[K\rremote: Counting objects:  11% (16/141)\u001b[K\rremote: Counting objects:  12% (17/141)\u001b[K\rremote: Counting objects:  13% (19/141)\u001b[K\rremote: Counting objects:  14% (20/141)\u001b[K\rremote: Counting objects:  15% (22/141)\u001b[K\rremote: Counting objects:  16% (23/141)\u001b[K\rremote: Counting objects:  17% (24/141)\u001b[K\rremote: Counting objects:  18% (26/141)\u001b[K\rremote: Counting objects:  19% (27/141)\u001b[K\rremote: Counting objects:  20% (29/141)\u001b[K\rremote: Counting objects:  21% (30/141)\u001b[K\rremote: Counting objects:  22% (32/141)\u001b[K\rremote: Counting objects:  23% (33/141)\u001b[K\rremote: Counting objects:  24% (34/141)\u001b[K\rremote: Counting objects:  25% (36/141)\u001b[K\rremote: Counting objects:  26% (37/141)\u001b[K\rremote: Counting objects:  27% (39/141)\u001b[K\rremote: Counting objects:  28% (40/141)\u001b[K\rremote: Counting objects:  29% (41/141)\u001b[K\rremote: Counting objects:  30% (43/141)\u001b[K\rremote: Counting objects:  31% (44/141)\u001b[K\rremote: Counting objects:  32% (46/141)\u001b[K\rremote: Counting objects:  33% (47/141)\u001b[K\rremote: Counting objects:  34% (48/141)\u001b[K\rremote: Counting objects:  35% (50/141)\u001b[K\rremote: Counting objects:  36% (51/141)\u001b[K\rremote: Counting objects:  37% (53/141)\u001b[K\rremote: Counting objects:  38% (54/141)\u001b[K\rremote: Counting objects:  39% (55/141)\u001b[K\rremote: Counting objects:  40% (57/141)\u001b[K\rremote: Counting objects:  41% (58/141)\u001b[K\rremote: Counting objects:  42% (60/141)\u001b[K\rremote: Counting objects:  43% (61/141)\u001b[K\rremote: Counting objects:  44% (63/141)\u001b[K\rremote: Counting objects:  45% (64/141)\u001b[K\rremote: Counting objects:  46% (65/141)\u001b[K\rremote: Counting objects:  47% (67/141)\u001b[K\rremote: Counting objects:  48% (68/141)\u001b[K\rremote: Counting objects:  49% (70/141)\u001b[K\rremote: Counting objects:  50% (71/141)\u001b[K\rremote: Counting objects:  51% (72/141)\u001b[K\rremote: Counting objects:  52% (74/141)\u001b[K\rremote: Counting objects:  53% (75/141)\u001b[K\rremote: Counting objects:  54% (77/141)\u001b[K\rremote: Counting objects:  55% (78/141)\u001b[K\rremote: Counting objects:  56% (79/141)\u001b[K\rremote: Counting objects:  57% (81/141)\u001b[K\rremote: Counting objects:  58% (82/141)\u001b[K\rremote: Counting objects:  59% (84/141)\u001b[K\rremote: Counting objects:  60% (85/141)\u001b[K\rremote: Counting objects:  61% (87/141)\u001b[K\rremote: Counting objects:  62% (88/141)\u001b[K\rremote: Counting objects:  63% (89/141)\u001b[K\rremote: Counting objects:  64% (91/141)\u001b[K\rremote: Counting objects:  65% (92/141)\u001b[K\rremote: Counting objects:  66% (94/141)\u001b[K\rremote: Counting objects:  67% (95/141)\u001b[K\rremote: Counting objects:  68% (96/141)\u001b[K\rremote: Counting objects:  69% (98/141)\u001b[K\rremote: Counting objects:  70% (99/141)\u001b[K\rremote: Counting objects:  71% (101/141)\u001b[K\rremote: Counting objects:  72% (102/141)\u001b[K\rremote: Counting objects:  73% (103/141)\u001b[K\rremote: Counting objects:  74% (105/141)\u001b[K\rremote: Counting objects:  75% (106/141)\u001b[K\rremote: Counting objects:  76% (108/141)\u001b[K\rremote: Counting objects:  77% (109/141)\u001b[K\rremote: Counting objects:  78% (110/141)\u001b[K\rremote: Counting objects:  79% (112/141)\u001b[K\rremote: Counting objects:  80% (113/141)\u001b[K\rremote: Counting objects:  81% (115/141)\u001b[K\rremote: Counting objects:  82% (116/141)\u001b[K\rremote: Counting objects:  83% (118/141)\u001b[K\rremote: Counting objects:  84% (119/141)\u001b[K\rremote: Counting objects:  85% (120/141)\u001b[K\rremote: Counting objects:  86% (122/141)\u001b[K\rremote: Counting objects:  87% (123/141)\u001b[K\rremote: Counting objects:  88% (125/141)\u001b[K\rremote: Counting objects:  89% (126/141)\u001b[K\rremote: Counting objects:  90% (127/141)\u001b[K\rremote: Counting objects:  91% (129/141)\u001b[K\rremote: Counting objects:  92% (130/141)\u001b[K\rremote: Counting objects:  93% (132/141)\u001b[K\rremote: Counting objects:  94% (133/141)\u001b[K\rremote: Counting objects:  95% (134/141)\u001b[K\rremote: Counting objects:  96% (136/141)\u001b[K\rremote: Counting objects:  97% (137/141)\u001b[K\rremote: Counting objects:  98% (139/141)\u001b[K\rremote: Counting objects:  99% (140/141)\u001b[K\rremote: Counting objects: 100% (141/141)\u001b[K\rremote: Counting objects: 100% (141/141), done.\u001b[K\n",
            "remote: Compressing objects: 100% (80/80), done.\u001b[K\n",
            "remote: Total 141 (delta 54), reused 141 (delta 54), pack-reused 0\u001b[K\n",
            "Receiving objects: 100% (141/141), 4.42 MiB | 7.28 MiB/s, done.\n",
            "Resolving deltas: 100% (54/54), done.\n"
          ],
          "name": "stdout"
        }
      ]
    },
    {
      "cell_type": "code",
      "metadata": {
        "id": "Dvyoh6y4R2sM",
        "colab_type": "code",
        "colab": {}
      },
      "source": [
        "!mv '/content/ml-project' '/content/drive/My Drive'"
      ],
      "execution_count": 0,
      "outputs": []
    },
    {
      "cell_type": "code",
      "metadata": {
        "id": "KzIj3jfiToVa",
        "colab_type": "code",
        "colab": {}
      },
      "source": [
        "from os.path import isfile\n",
        "import zipfile\n",
        "import numpy as np\n",
        "import random\n",
        "\n",
        "dataset_path = './data/EP.zip'\n",
        "\n",
        "def get_dataset_file():\n",
        "    if not isfile(dataset_path):\n",
        "        import urllib\n",
        "        origin = (\n",
        "            'http://mindbigdata.com/opendb/MindBigData-EP-v1.0.zip'\n",
        "        )\n",
        "        print('Downloading data from %s' % origin)\n",
        "        urlretrieve(origin, dataset_path)\n",
        "    return open(dataset_path, 'rb')\n",
        "\n",
        "def get_datasets():\n",
        "    f = get_dataset_file()\n",
        "    zf = zipfile.ZipFile(f)\n",
        "        \n",
        "    data = [ line for line in zf.open('EP1.01.txt')]\n",
        "    entire_dataset = []\n",
        "    current_event = np.zeros(256 * 14 + 2)\n",
        "    \n",
        "    print('Reading data file')\n",
        "    i = 0\n",
        "\n",
        "    for l in data:\n",
        "        #print(str(l))\n",
        "        ids, event, device, channel, code, size, data = l.decode(\"utf-8\").split('\\t')\n",
        "\n",
        "        signals = np.array([float(val) for val in data.split(',')])\n",
        "        \n",
        "        current_event[1+ i*256:1+ i*256 + min(len(signals), 256)] = signals[:256]\n",
        "        i += 1\n",
        "\n",
        "        if i == 14: # we assume all channels from an event are in sequence\n",
        "            current_event[-1] = int(code)\n",
        "            current_event[0] = min(len(signals), 256)\n",
        "\n",
        "            entire_dataset.append(current_event)\n",
        "            current_event = np.zeros(256 * 14 + 2)\n",
        "            i = 0\n",
        "\n",
        "    random.seed(111) # deterministic\n",
        "    random.shuffle(entire_dataset)\n",
        "\n",
        "    entire_dataset = np.array(entire_dataset)\n",
        "    return entire_dataset[:60000], entire_dataset[60000:]\n",
        "\n",
        "def split_into_subsequences(data, n_sequences, length):\n",
        "    output = np.zeros((data.shape[0]*n_sequences, length*14+1))\n",
        "    for i in range(data.shape[0]):\n",
        "        if n_sequences == 1:\n",
        "            steps = 0\n",
        "        else:\n",
        "            steps = (data[i, 0] - length) / (n_sequences - 1)\n",
        "\n",
        "        for j in range(n_sequences):\n",
        "            output[i*n_sequences+j,:length]           = data[i, j*steps: j*steps+length]\n",
        "            output[i*n_sequences+j,length:length*2]   = data[i, j*steps+512: j*steps+512+length]\n",
        "            output[i*n_sequences+j,length*2:length*3] = data[i, j*steps+512*2: j*steps+512*2+length]\n",
        "            output[i*n_sequences+j,length*3:length*4] = data[i, j*steps+512*3: j*steps+512*3+length]\n",
        "            output[i*n_sequences+j,-1] = data[i, -1]\n",
        "\n",
        "    return output"
      ],
      "execution_count": 0,
      "outputs": []
    },
    {
      "cell_type": "code",
      "metadata": {
        "id": "3_cVlZ8IV8ZA",
        "colab_type": "code",
        "colab": {}
      },
      "source": [
        "\n",
        "import numpy as np\n",
        "%matplotlib inline\n",
        "import matplotlib.pyplot as plt\n",
        "from sklearn.neighbors import KNeighborsClassifier\n",
        "from sklearn.decomposition import PCA\n",
        "from sklearn import metrics\n",
        "from sklearn.metrics import confusion_matrix\n",
        "from urllib.request import urlretrieve\n",
        "#from sklearn.gaussian_process import GaussianProcess"
      ],
      "execution_count": 0,
      "outputs": []
    },
    {
      "cell_type": "code",
      "metadata": {
        "id": "IMX3T-Ijytvm",
        "colab_type": "code",
        "colab": {
          "base_uri": "https://localhost:8080/",
          "height": 34
        },
        "outputId": "fa0cf3d5-7309-4f42-b128-c9890df6d624"
      },
      "source": [
        "(25/2050)*3586"
      ],
      "execution_count": 76,
      "outputs": [
        {
          "output_type": "execute_result",
          "data": {
            "text/plain": [
              "43.73170731707317"
            ]
          },
          "metadata": {
            "tags": []
          },
          "execution_count": 76
        }
      ]
    },
    {
      "cell_type": "code",
      "metadata": {
        "id": "4SfQ4Uj5WKt6",
        "colab_type": "code",
        "colab": {
          "base_uri": "https://localhost:8080/",
          "height": 68
        },
        "outputId": "16d9ff78-bf2f-4075-8573-67eae5468b13"
      },
      "source": [
        "train, test = get_datasets()\n",
        "print(train.shape)\n",
        "print(test.shape)"
      ],
      "execution_count": 3,
      "outputs": [
        {
          "output_type": "stream",
          "text": [
            "Reading data file\n",
            "(60000, 3586)\n",
            "(5034, 3586)\n"
          ],
          "name": "stdout"
        }
      ]
    },
    {
      "cell_type": "code",
      "metadata": {
        "id": "SxAGTmMoas0B",
        "colab_type": "code",
        "colab": {}
      },
      "source": [
        "#train = train[:int(len(train)/3),:]\n",
        "#test = test[:int(len(test)/3), :]\n",
        "\n",
        "#train[train[:,-1] >= 0,-1] =  0\n",
        "#test[test[:,-1] >= 0,-1] =  0\n",
        "\n",
        "#train[:,-1] = train[:,-1] + 1\n",
        "#test[:,-1] = test[:,-1] + 1\n",
        "\n",
        "train_target = train[:,-1]\n",
        "test_target = test[:,-1]\n",
        "\n",
        "DECISIONBOUNDARY = 0"
      ],
      "execution_count": 0,
      "outputs": []
    },
    {
      "cell_type": "code",
      "metadata": {
        "id": "oUiNeWc8bXpq",
        "colab_type": "code",
        "colab": {}
      },
      "source": [
        "#FastFourierTransformation apply to the sets using the 4 sensors\n",
        "\n",
        "train_f = np.zeros(train.shape)\n",
        "\n",
        "for i in range(len(train_f)):\n",
        "    length = train[i][0]\n",
        "    train_f[i][0] = train[i][0]\n",
        "    train_f[i][-1] = train[i][-1]\n",
        "    \n",
        "    for j in range(14):\n",
        "        train_f[int(i)][int(1+256*j):int(1+256*j+length)] = np.abs(np.fft.fft(train[int(i)][int(1+256*j):int(1+256*j+length)]))\n",
        "        \n",
        "test_f = np.zeros(test.shape)\n",
        "\n",
        "for i in range(len(test_f)):\n",
        "    length = test[i,0]\n",
        "    test_f[i,0] = test[i,0]\n",
        "    test_f[i,-1] = test[i,-1]\n",
        "    \n",
        "    for j in range(14):\n",
        "        test_f[i][int(1+256*j):int(1+256*j+length)] = np.abs(np.fft.fft(test[i][int(1+256*j):int(1+256*j+length)]))"
      ],
      "execution_count": 0,
      "outputs": []
    },
    {
      "cell_type": "code",
      "metadata": {
        "id": "q0HUola9estn",
        "colab_type": "code",
        "colab": {}
      },
      "source": [
        "#PCA with 25 components\n",
        "pca = PCA(n_components = 45)\n",
        "train_principal = pca.fit_transform(train_f)\n",
        "test_principal = pca.transform(test_f)"
      ],
      "execution_count": 0,
      "outputs": []
    },
    {
      "cell_type": "code",
      "metadata": {
        "id": "B3x20RyvfLzt",
        "colab_type": "code",
        "colab": {
          "base_uri": "https://localhost:8080/",
          "height": 34
        },
        "outputId": "12dcce3a-c119-4444-d55b-37fddbbd3fad"
      },
      "source": [
        "test_principal.shape"
      ],
      "execution_count": 7,
      "outputs": [
        {
          "output_type": "execute_result",
          "data": {
            "text/plain": [
              "(5034, 25)"
            ]
          },
          "metadata": {
            "tags": []
          },
          "execution_count": 7
        }
      ]
    },
    {
      "cell_type": "code",
      "metadata": {
        "id": "Oa2uH-JLex6w",
        "colab_type": "code",
        "colab": {
          "base_uri": "https://localhost:8080/",
          "height": 575
        },
        "outputId": "b7926cd7-ca57-4bcd-9fb0-d31c86430226"
      },
      "source": [
        "#KNN\n",
        "erreur = []\n",
        "x = np.arange(1,20,1)\n",
        "for n in (x):\n",
        "    # train set\n",
        "    neigh = KNeighborsClassifier(n_neighbors=n)\n",
        "    neigh.fit(train_principal, train[:,-1])\n",
        "\n",
        "    #test set\n",
        "    total_correct = 0\n",
        "    for i in range(test_principal.shape[0]):\n",
        "        if neigh.predict(test_principal[i].reshape(1, -1))[0] == test[i,-1]:\n",
        "            total_correct += 1\n",
        "\n",
        "    erreur.append(float(total_correct) / test_principal.shape[0] * 100)\n",
        "    print('Pourcentage correct %d:' % n, float(total_correct) / test_principal.shape[0] * 100)"
      ],
      "execution_count": 98,
      "outputs": [
        {
          "output_type": "stream",
          "text": [
            "Pourcentage correct 1: 10.389352403655144\n",
            "Pourcentage correct 2: 10.647596344854986\n",
            "Pourcentage correct 3: 10.707191100516487\n",
            "Pourcentage correct 4: 10.985299960270163\n",
            "Pourcentage correct 5: 11.22367898291617\n",
            "Pourcentage correct 6: 10.985299960270163\n",
            "Pourcentage correct 7: 11.0647596344855\n",
            "Pourcentage correct 8: 11.005164878823996\n",
            "Pourcentage correct 9: 10.687326181962655\n",
            "Pourcentage correct 10: 10.46881207787048\n"
          ],
          "name": "stdout"
        },
        {
          "output_type": "error",
          "ename": "KeyboardInterrupt",
          "evalue": "ignored",
          "traceback": [
            "\u001b[0;31m---------------------------------------------------------------------------\u001b[0m",
            "\u001b[0;31mKeyboardInterrupt\u001b[0m                         Traceback (most recent call last)",
            "\u001b[0;32m<ipython-input-98-35668ba1bfd5>\u001b[0m in \u001b[0;36m<module>\u001b[0;34m()\u001b[0m\n\u001b[1;32m      9\u001b[0m     \u001b[0mtotal_correct\u001b[0m \u001b[0;34m=\u001b[0m \u001b[0;36m0\u001b[0m\u001b[0;34m\u001b[0m\u001b[0;34m\u001b[0m\u001b[0m\n\u001b[1;32m     10\u001b[0m     \u001b[0;32mfor\u001b[0m \u001b[0mi\u001b[0m \u001b[0;32min\u001b[0m \u001b[0mrange\u001b[0m\u001b[0;34m(\u001b[0m\u001b[0mtest_principal\u001b[0m\u001b[0;34m.\u001b[0m\u001b[0mshape\u001b[0m\u001b[0;34m[\u001b[0m\u001b[0;36m0\u001b[0m\u001b[0;34m]\u001b[0m\u001b[0;34m)\u001b[0m\u001b[0;34m:\u001b[0m\u001b[0;34m\u001b[0m\u001b[0;34m\u001b[0m\u001b[0m\n\u001b[0;32m---> 11\u001b[0;31m         \u001b[0;32mif\u001b[0m \u001b[0mneigh\u001b[0m\u001b[0;34m.\u001b[0m\u001b[0mpredict\u001b[0m\u001b[0;34m(\u001b[0m\u001b[0mtest_principal\u001b[0m\u001b[0;34m[\u001b[0m\u001b[0mi\u001b[0m\u001b[0;34m]\u001b[0m\u001b[0;34m.\u001b[0m\u001b[0mreshape\u001b[0m\u001b[0;34m(\u001b[0m\u001b[0;36m1\u001b[0m\u001b[0;34m,\u001b[0m \u001b[0;34m-\u001b[0m\u001b[0;36m1\u001b[0m\u001b[0;34m)\u001b[0m\u001b[0;34m)\u001b[0m\u001b[0;34m[\u001b[0m\u001b[0;36m0\u001b[0m\u001b[0;34m]\u001b[0m \u001b[0;34m==\u001b[0m \u001b[0mtest\u001b[0m\u001b[0;34m[\u001b[0m\u001b[0mi\u001b[0m\u001b[0;34m,\u001b[0m\u001b[0;34m-\u001b[0m\u001b[0;36m1\u001b[0m\u001b[0;34m]\u001b[0m\u001b[0;34m:\u001b[0m\u001b[0;34m\u001b[0m\u001b[0;34m\u001b[0m\u001b[0m\n\u001b[0m\u001b[1;32m     12\u001b[0m             \u001b[0mtotal_correct\u001b[0m \u001b[0;34m+=\u001b[0m \u001b[0;36m1\u001b[0m\u001b[0;34m\u001b[0m\u001b[0;34m\u001b[0m\u001b[0m\n\u001b[1;32m     13\u001b[0m \u001b[0;34m\u001b[0m\u001b[0m\n",
            "\u001b[0;32m/usr/local/lib/python3.6/dist-packages/sklearn/neighbors/classification.py\u001b[0m in \u001b[0;36mpredict\u001b[0;34m(self, X)\u001b[0m\n\u001b[1;32m    147\u001b[0m         \u001b[0mX\u001b[0m \u001b[0;34m=\u001b[0m \u001b[0mcheck_array\u001b[0m\u001b[0;34m(\u001b[0m\u001b[0mX\u001b[0m\u001b[0;34m,\u001b[0m \u001b[0maccept_sparse\u001b[0m\u001b[0;34m=\u001b[0m\u001b[0;34m'csr'\u001b[0m\u001b[0;34m)\u001b[0m\u001b[0;34m\u001b[0m\u001b[0;34m\u001b[0m\u001b[0m\n\u001b[1;32m    148\u001b[0m \u001b[0;34m\u001b[0m\u001b[0m\n\u001b[0;32m--> 149\u001b[0;31m         \u001b[0mneigh_dist\u001b[0m\u001b[0;34m,\u001b[0m \u001b[0mneigh_ind\u001b[0m \u001b[0;34m=\u001b[0m \u001b[0mself\u001b[0m\u001b[0;34m.\u001b[0m\u001b[0mkneighbors\u001b[0m\u001b[0;34m(\u001b[0m\u001b[0mX\u001b[0m\u001b[0;34m)\u001b[0m\u001b[0;34m\u001b[0m\u001b[0;34m\u001b[0m\u001b[0m\n\u001b[0m\u001b[1;32m    150\u001b[0m         \u001b[0mclasses_\u001b[0m \u001b[0;34m=\u001b[0m \u001b[0mself\u001b[0m\u001b[0;34m.\u001b[0m\u001b[0mclasses_\u001b[0m\u001b[0;34m\u001b[0m\u001b[0;34m\u001b[0m\u001b[0m\n\u001b[1;32m    151\u001b[0m         \u001b[0m_y\u001b[0m \u001b[0;34m=\u001b[0m \u001b[0mself\u001b[0m\u001b[0;34m.\u001b[0m\u001b[0m_y\u001b[0m\u001b[0;34m\u001b[0m\u001b[0;34m\u001b[0m\u001b[0m\n",
            "\u001b[0;32m/usr/local/lib/python3.6/dist-packages/sklearn/neighbors/base.py\u001b[0m in \u001b[0;36mkneighbors\u001b[0;34m(self, X, n_neighbors, return_distance)\u001b[0m\n\u001b[1;32m    452\u001b[0m                 delayed_query(\n\u001b[1;32m    453\u001b[0m                     self._tree, X[s], n_neighbors, return_distance)\n\u001b[0;32m--> 454\u001b[0;31m                 \u001b[0;32mfor\u001b[0m \u001b[0ms\u001b[0m \u001b[0;32min\u001b[0m \u001b[0mgen_even_slices\u001b[0m\u001b[0;34m(\u001b[0m\u001b[0mX\u001b[0m\u001b[0;34m.\u001b[0m\u001b[0mshape\u001b[0m\u001b[0;34m[\u001b[0m\u001b[0;36m0\u001b[0m\u001b[0;34m]\u001b[0m\u001b[0;34m,\u001b[0m \u001b[0mn_jobs\u001b[0m\u001b[0;34m)\u001b[0m\u001b[0;34m\u001b[0m\u001b[0;34m\u001b[0m\u001b[0m\n\u001b[0m\u001b[1;32m    455\u001b[0m             )\n\u001b[1;32m    456\u001b[0m         \u001b[0;32melse\u001b[0m\u001b[0;34m:\u001b[0m\u001b[0;34m\u001b[0m\u001b[0;34m\u001b[0m\u001b[0m\n",
            "\u001b[0;32m/usr/local/lib/python3.6/dist-packages/joblib/parallel.py\u001b[0m in \u001b[0;36m__call__\u001b[0;34m(self, iterable)\u001b[0m\n\u001b[1;32m   1001\u001b[0m             \u001b[0;31m# remaining jobs.\u001b[0m\u001b[0;34m\u001b[0m\u001b[0;34m\u001b[0m\u001b[0;34m\u001b[0m\u001b[0m\n\u001b[1;32m   1002\u001b[0m             \u001b[0mself\u001b[0m\u001b[0;34m.\u001b[0m\u001b[0m_iterating\u001b[0m \u001b[0;34m=\u001b[0m \u001b[0;32mFalse\u001b[0m\u001b[0;34m\u001b[0m\u001b[0;34m\u001b[0m\u001b[0m\n\u001b[0;32m-> 1003\u001b[0;31m             \u001b[0;32mif\u001b[0m \u001b[0mself\u001b[0m\u001b[0;34m.\u001b[0m\u001b[0mdispatch_one_batch\u001b[0m\u001b[0;34m(\u001b[0m\u001b[0miterator\u001b[0m\u001b[0;34m)\u001b[0m\u001b[0;34m:\u001b[0m\u001b[0;34m\u001b[0m\u001b[0;34m\u001b[0m\u001b[0m\n\u001b[0m\u001b[1;32m   1004\u001b[0m                 \u001b[0mself\u001b[0m\u001b[0;34m.\u001b[0m\u001b[0m_iterating\u001b[0m \u001b[0;34m=\u001b[0m \u001b[0mself\u001b[0m\u001b[0;34m.\u001b[0m\u001b[0m_original_iterator\u001b[0m \u001b[0;32mis\u001b[0m \u001b[0;32mnot\u001b[0m \u001b[0;32mNone\u001b[0m\u001b[0;34m\u001b[0m\u001b[0;34m\u001b[0m\u001b[0m\n\u001b[1;32m   1005\u001b[0m \u001b[0;34m\u001b[0m\u001b[0m\n",
            "\u001b[0;32m/usr/local/lib/python3.6/dist-packages/joblib/parallel.py\u001b[0m in \u001b[0;36mdispatch_one_batch\u001b[0;34m(self, iterator)\u001b[0m\n\u001b[1;32m    832\u001b[0m                 \u001b[0;32mreturn\u001b[0m \u001b[0;32mFalse\u001b[0m\u001b[0;34m\u001b[0m\u001b[0;34m\u001b[0m\u001b[0m\n\u001b[1;32m    833\u001b[0m             \u001b[0;32melse\u001b[0m\u001b[0;34m:\u001b[0m\u001b[0;34m\u001b[0m\u001b[0;34m\u001b[0m\u001b[0m\n\u001b[0;32m--> 834\u001b[0;31m                 \u001b[0mself\u001b[0m\u001b[0;34m.\u001b[0m\u001b[0m_dispatch\u001b[0m\u001b[0;34m(\u001b[0m\u001b[0mtasks\u001b[0m\u001b[0;34m)\u001b[0m\u001b[0;34m\u001b[0m\u001b[0;34m\u001b[0m\u001b[0m\n\u001b[0m\u001b[1;32m    835\u001b[0m                 \u001b[0;32mreturn\u001b[0m \u001b[0;32mTrue\u001b[0m\u001b[0;34m\u001b[0m\u001b[0;34m\u001b[0m\u001b[0m\n\u001b[1;32m    836\u001b[0m \u001b[0;34m\u001b[0m\u001b[0m\n",
            "\u001b[0;32m/usr/local/lib/python3.6/dist-packages/joblib/parallel.py\u001b[0m in \u001b[0;36m_dispatch\u001b[0;34m(self, batch)\u001b[0m\n\u001b[1;32m    751\u001b[0m         \u001b[0;32mwith\u001b[0m \u001b[0mself\u001b[0m\u001b[0;34m.\u001b[0m\u001b[0m_lock\u001b[0m\u001b[0;34m:\u001b[0m\u001b[0;34m\u001b[0m\u001b[0;34m\u001b[0m\u001b[0m\n\u001b[1;32m    752\u001b[0m             \u001b[0mjob_idx\u001b[0m \u001b[0;34m=\u001b[0m \u001b[0mlen\u001b[0m\u001b[0;34m(\u001b[0m\u001b[0mself\u001b[0m\u001b[0;34m.\u001b[0m\u001b[0m_jobs\u001b[0m\u001b[0;34m)\u001b[0m\u001b[0;34m\u001b[0m\u001b[0;34m\u001b[0m\u001b[0m\n\u001b[0;32m--> 753\u001b[0;31m             \u001b[0mjob\u001b[0m \u001b[0;34m=\u001b[0m \u001b[0mself\u001b[0m\u001b[0;34m.\u001b[0m\u001b[0m_backend\u001b[0m\u001b[0;34m.\u001b[0m\u001b[0mapply_async\u001b[0m\u001b[0;34m(\u001b[0m\u001b[0mbatch\u001b[0m\u001b[0;34m,\u001b[0m \u001b[0mcallback\u001b[0m\u001b[0;34m=\u001b[0m\u001b[0mcb\u001b[0m\u001b[0;34m)\u001b[0m\u001b[0;34m\u001b[0m\u001b[0;34m\u001b[0m\u001b[0m\n\u001b[0m\u001b[1;32m    754\u001b[0m             \u001b[0;31m# A job can complete so quickly than its callback is\u001b[0m\u001b[0;34m\u001b[0m\u001b[0;34m\u001b[0m\u001b[0;34m\u001b[0m\u001b[0m\n\u001b[1;32m    755\u001b[0m             \u001b[0;31m# called before we get here, causing self._jobs to\u001b[0m\u001b[0;34m\u001b[0m\u001b[0;34m\u001b[0m\u001b[0;34m\u001b[0m\u001b[0m\n",
            "\u001b[0;32m/usr/local/lib/python3.6/dist-packages/joblib/_parallel_backends.py\u001b[0m in \u001b[0;36mapply_async\u001b[0;34m(self, func, callback)\u001b[0m\n\u001b[1;32m    199\u001b[0m     \u001b[0;32mdef\u001b[0m \u001b[0mapply_async\u001b[0m\u001b[0;34m(\u001b[0m\u001b[0mself\u001b[0m\u001b[0;34m,\u001b[0m \u001b[0mfunc\u001b[0m\u001b[0;34m,\u001b[0m \u001b[0mcallback\u001b[0m\u001b[0;34m=\u001b[0m\u001b[0;32mNone\u001b[0m\u001b[0;34m)\u001b[0m\u001b[0;34m:\u001b[0m\u001b[0;34m\u001b[0m\u001b[0;34m\u001b[0m\u001b[0m\n\u001b[1;32m    200\u001b[0m         \u001b[0;34m\"\"\"Schedule a func to be run\"\"\"\u001b[0m\u001b[0;34m\u001b[0m\u001b[0;34m\u001b[0m\u001b[0m\n\u001b[0;32m--> 201\u001b[0;31m         \u001b[0mresult\u001b[0m \u001b[0;34m=\u001b[0m \u001b[0mImmediateResult\u001b[0m\u001b[0;34m(\u001b[0m\u001b[0mfunc\u001b[0m\u001b[0;34m)\u001b[0m\u001b[0;34m\u001b[0m\u001b[0;34m\u001b[0m\u001b[0m\n\u001b[0m\u001b[1;32m    202\u001b[0m         \u001b[0;32mif\u001b[0m \u001b[0mcallback\u001b[0m\u001b[0;34m:\u001b[0m\u001b[0;34m\u001b[0m\u001b[0;34m\u001b[0m\u001b[0m\n\u001b[1;32m    203\u001b[0m             \u001b[0mcallback\u001b[0m\u001b[0;34m(\u001b[0m\u001b[0mresult\u001b[0m\u001b[0;34m)\u001b[0m\u001b[0;34m\u001b[0m\u001b[0;34m\u001b[0m\u001b[0m\n",
            "\u001b[0;32m/usr/local/lib/python3.6/dist-packages/joblib/_parallel_backends.py\u001b[0m in \u001b[0;36m__init__\u001b[0;34m(self, batch)\u001b[0m\n\u001b[1;32m    580\u001b[0m         \u001b[0;31m# Don't delay the application, to avoid keeping the input\u001b[0m\u001b[0;34m\u001b[0m\u001b[0;34m\u001b[0m\u001b[0;34m\u001b[0m\u001b[0m\n\u001b[1;32m    581\u001b[0m         \u001b[0;31m# arguments in memory\u001b[0m\u001b[0;34m\u001b[0m\u001b[0;34m\u001b[0m\u001b[0;34m\u001b[0m\u001b[0m\n\u001b[0;32m--> 582\u001b[0;31m         \u001b[0mself\u001b[0m\u001b[0;34m.\u001b[0m\u001b[0mresults\u001b[0m \u001b[0;34m=\u001b[0m \u001b[0mbatch\u001b[0m\u001b[0;34m(\u001b[0m\u001b[0;34m)\u001b[0m\u001b[0;34m\u001b[0m\u001b[0;34m\u001b[0m\u001b[0m\n\u001b[0m\u001b[1;32m    583\u001b[0m \u001b[0;34m\u001b[0m\u001b[0m\n\u001b[1;32m    584\u001b[0m     \u001b[0;32mdef\u001b[0m \u001b[0mget\u001b[0m\u001b[0;34m(\u001b[0m\u001b[0mself\u001b[0m\u001b[0;34m)\u001b[0m\u001b[0;34m:\u001b[0m\u001b[0;34m\u001b[0m\u001b[0;34m\u001b[0m\u001b[0m\n",
            "\u001b[0;32m/usr/local/lib/python3.6/dist-packages/joblib/parallel.py\u001b[0m in \u001b[0;36m__call__\u001b[0;34m(self)\u001b[0m\n\u001b[1;32m    254\u001b[0m         \u001b[0;32mwith\u001b[0m \u001b[0mparallel_backend\u001b[0m\u001b[0;34m(\u001b[0m\u001b[0mself\u001b[0m\u001b[0;34m.\u001b[0m\u001b[0m_backend\u001b[0m\u001b[0;34m,\u001b[0m \u001b[0mn_jobs\u001b[0m\u001b[0;34m=\u001b[0m\u001b[0mself\u001b[0m\u001b[0;34m.\u001b[0m\u001b[0m_n_jobs\u001b[0m\u001b[0;34m)\u001b[0m\u001b[0;34m:\u001b[0m\u001b[0;34m\u001b[0m\u001b[0;34m\u001b[0m\u001b[0m\n\u001b[1;32m    255\u001b[0m             return [func(*args, **kwargs)\n\u001b[0;32m--> 256\u001b[0;31m                     for func, args, kwargs in self.items]\n\u001b[0m\u001b[1;32m    257\u001b[0m \u001b[0;34m\u001b[0m\u001b[0m\n\u001b[1;32m    258\u001b[0m     \u001b[0;32mdef\u001b[0m \u001b[0m__len__\u001b[0m\u001b[0;34m(\u001b[0m\u001b[0mself\u001b[0m\u001b[0;34m)\u001b[0m\u001b[0;34m:\u001b[0m\u001b[0;34m\u001b[0m\u001b[0;34m\u001b[0m\u001b[0m\n",
            "\u001b[0;32m/usr/local/lib/python3.6/dist-packages/joblib/parallel.py\u001b[0m in \u001b[0;36m<listcomp>\u001b[0;34m(.0)\u001b[0m\n\u001b[1;32m    254\u001b[0m         \u001b[0;32mwith\u001b[0m \u001b[0mparallel_backend\u001b[0m\u001b[0;34m(\u001b[0m\u001b[0mself\u001b[0m\u001b[0;34m.\u001b[0m\u001b[0m_backend\u001b[0m\u001b[0;34m,\u001b[0m \u001b[0mn_jobs\u001b[0m\u001b[0;34m=\u001b[0m\u001b[0mself\u001b[0m\u001b[0;34m.\u001b[0m\u001b[0m_n_jobs\u001b[0m\u001b[0;34m)\u001b[0m\u001b[0;34m:\u001b[0m\u001b[0;34m\u001b[0m\u001b[0;34m\u001b[0m\u001b[0m\n\u001b[1;32m    255\u001b[0m             return [func(*args, **kwargs)\n\u001b[0;32m--> 256\u001b[0;31m                     for func, args, kwargs in self.items]\n\u001b[0m\u001b[1;32m    257\u001b[0m \u001b[0;34m\u001b[0m\u001b[0m\n\u001b[1;32m    258\u001b[0m     \u001b[0;32mdef\u001b[0m \u001b[0m__len__\u001b[0m\u001b[0;34m(\u001b[0m\u001b[0mself\u001b[0m\u001b[0;34m)\u001b[0m\u001b[0;34m:\u001b[0m\u001b[0;34m\u001b[0m\u001b[0;34m\u001b[0m\u001b[0m\n",
            "\u001b[0;32m/usr/local/lib/python3.6/dist-packages/sklearn/neighbors/base.py\u001b[0m in \u001b[0;36m_tree_query_parallel_helper\u001b[0;34m(tree, data, n_neighbors, return_distance)\u001b[0m\n\u001b[1;32m    289\u001b[0m     \u001b[0munder\u001b[0m \u001b[0mPyPy\u001b[0m\u001b[0;34m.\u001b[0m\u001b[0;34m\u001b[0m\u001b[0;34m\u001b[0m\u001b[0m\n\u001b[1;32m    290\u001b[0m     \"\"\"\n\u001b[0;32m--> 291\u001b[0;31m     \u001b[0;32mreturn\u001b[0m \u001b[0mtree\u001b[0m\u001b[0;34m.\u001b[0m\u001b[0mquery\u001b[0m\u001b[0;34m(\u001b[0m\u001b[0mdata\u001b[0m\u001b[0;34m,\u001b[0m \u001b[0mn_neighbors\u001b[0m\u001b[0;34m,\u001b[0m \u001b[0mreturn_distance\u001b[0m\u001b[0;34m)\u001b[0m\u001b[0;34m\u001b[0m\u001b[0;34m\u001b[0m\u001b[0m\n\u001b[0m\u001b[1;32m    292\u001b[0m \u001b[0;34m\u001b[0m\u001b[0m\n\u001b[1;32m    293\u001b[0m \u001b[0;34m\u001b[0m\u001b[0m\n",
            "\u001b[0;31mKeyboardInterrupt\u001b[0m: "
          ]
        }
      ]
    },
    {
      "cell_type": "code",
      "metadata": {
        "id": "Q7jwgi5LUWTR",
        "colab_type": "code",
        "colab": {}
      },
      "source": [
        "#Import models from scikit learn module:\n",
        "from sklearn.linear_model import LogisticRegression\n",
        "from sklearn.model_selection import KFold   #For K-fold cross validation\n",
        "from sklearn.ensemble import RandomForestClassifier, RandomForestRegressor\n",
        "from sklearn.svm import SVC\n",
        "from sklearn.tree import DecisionTreeClassifier, export_graphviz\n",
        "from sklearn import metrics\n",
        "import numpy as np\n",
        "from sklearn.metrics import roc_curve, auc, precision_score, confusion_matrix, explained_variance_score, max_error, mean_absolute_error, mean_squared_error\n",
        "from sklearn.linear_model import LogisticRegression, LinearRegression, Ridge, Lasso"
      ],
      "execution_count": 0,
      "outputs": []
    },
    {
      "cell_type": "code",
      "metadata": {
        "id": "LBuH2OlaNfVK",
        "colab_type": "code",
        "colab": {
          "base_uri": "https://localhost:8080/",
          "height": 221
        },
        "outputId": "c2538eb1-6bec-4e7f-e7b8-ea3a8d0ac63a"
      },
      "source": [
        "\n",
        "model = RandomForestClassifier(n_estimators=100)\n",
        "model.fit(train_principal,train[:,-1])\n",
        "\n",
        "\n",
        "#predictions = model.predict(test_principal)\n",
        "prc=precision_score(predictions,test[:,-1], average=None)\n",
        "cfm=confusion_matrix(predictions,test[:,-1])\n",
        "accuracy = metrics.accuracy_score(predictions,test[:,-1])\n",
        "print(prc,cfm,accuracy)\n",
        "#print(explained_variance_score(predictions,test))\n",
        "#print(max_error(predictions,test))\n",
        "#print(mean_absolute_error(predictions, test, multioutput='raw_values'))\n",
        "#print(mean_squared_error(predictions, test, multioutput='raw_values'))"
      ],
      "execution_count": 104,
      "outputs": [
        {
          "output_type": "stream",
          "text": [
            "[0.93333333 0.14688129 0.12277228 0.13609467 0.12549801 0.1085595\n",
            " 0.10931174 0.12783505 0.11018711 0.09760589 0.08365019] [[14  0  0  0  0  0  1  0  0  0  0]\n",
            " [ 0 73 60 55 56 62 57 48 54 58 57]\n",
            " [ 0 45 62 52 51 51 54 58 36 60 69]\n",
            " [ 0 40 53 69 59 42 53 48 58 47 49]\n",
            " [ 0 66 59 65 63 59 49 54 57 63 68]\n",
            " [ 1 50 52 42 41 52 52 45 38 55 38]\n",
            " [ 0 52 50 53 49 47 54 52 53 58 59]\n",
            " [ 0 45 44 46 44 46 49 62 55 59 56]\n",
            " [ 0 39 34 48 55 39 34 32 53 46 45]\n",
            " [ 0 43 46 52 39 39 41 41 44 53 41]\n",
            " [ 0 44 45 25 45 42 50 45 33 44 44]] 0.11899086213746524\n"
          ],
          "name": "stdout"
        }
      ]
    },
    {
      "cell_type": "code",
      "metadata": {
        "id": "4VmdNhb9P5vt",
        "colab_type": "code",
        "colab": {
          "base_uri": "https://localhost:8080/",
          "height": 348
        },
        "outputId": "17a04569-9429-4ba4-c1cb-afbb7831bc7b"
      },
      "source": [
        "model = LogisticRegression()\n",
        "model.fit(train_principal,train[:,-1])\n",
        "\n",
        "\n",
        "predictions = model.predict(test_principal)`≈`\n",
        "prc=precision_score(predictions,test[:,-1], average=None)\n",
        "cfm=confusion_matrix(predictions,test[:,-1])\n",
        "accuracy = metrics.accuracy_score(predictions,test[:,-1])\n",
        "print(prc,cfm,accuracy)"
      ],
      "execution_count": 10,
      "outputs": [
        {
          "output_type": "stream",
          "text": [
            "/usr/local/lib/python3.6/dist-packages/sklearn/linear_model/logistic.py:432: FutureWarning: Default solver will be changed to 'lbfgs' in 0.22. Specify a solver to silence this warning.\n",
            "  FutureWarning)\n",
            "/usr/local/lib/python3.6/dist-packages/sklearn/linear_model/logistic.py:469: FutureWarning: Default multi_class will be changed to 'auto' in 0.22. Specify the multi_class option to silence this warning.\n",
            "  \"this warning.\", FutureWarning)\n"
          ],
          "name": "stderr"
        },
        {
          "output_type": "stream",
          "text": [
            "[1.         0.09859155 0.12871287 0.         0.03585657 0.10438413\n",
            " 0.         0.00206186 0.21413721 0.3572744  0.02661597] [[ 15  34  26  34  43  26  36  31  33  37  36]\n",
            " [  0  49  62  47  51  47  48  36  41  44  60]\n",
            " [  0  73  65  62  60  64  60  73  50  71  66]\n",
            " [  0   0   0   0   1   0   0   0   0   0   1]\n",
            " [  0  14  14  23  18  19  13   7  20  17   9]\n",
            " [  0  54  71  44  45  50  47  59  45  52  54]\n",
            " [  0   4   2   3   1   0   0   1   1   1   2]\n",
            " [  0   2   0   0   0   1   1   1   0   1   1]\n",
            " [  0  89  95  96  88 106  87  97 103 109  94]\n",
            " [  0 160 157 182 186 155 192 163 182 194 189]\n",
            " [  0  18  13  16   9  11  10  17   6  17  14]] 0.1011124354390147\n"
          ],
          "name": "stdout"
        },
        {
          "output_type": "stream",
          "text": [
            "/usr/local/lib/python3.6/dist-packages/sklearn/svm/base.py:929: ConvergenceWarning: Liblinear failed to converge, increase the number of iterations.\n",
            "  \"the number of iterations.\", ConvergenceWarning)\n"
          ],
          "name": "stderr"
        }
      ]
    },
    {
      "cell_type": "code",
      "metadata": {
        "id": "7TViapOiVIiv",
        "colab_type": "code",
        "colab": {
          "base_uri": "https://localhost:8080/",
          "height": 85
        },
        "outputId": "33f85d55-d44c-4fa3-f9d3-0bc4bb00692e"
      },
      "source": [
        "model = LinearRegression()\n",
        "#model.fit(train_principal,train[:,-1])\n",
        "\n",
        "\n",
        "#predictions = model.predict(test_principal)\n",
        "#prc=precision_score(predictions,test[:,-1], average=None)\n",
        "print(explained_variance_score(predictions,test[:,-1]))\n",
        "print(max_error(predictions,test[:,-1]))\n",
        "print(mean_absolute_error(predictions, test[:,-1], multioutput='raw_values'))\n",
        "print(mean_squared_error(predictions, test[:,-1], multioutput='raw_values'))"
      ],
      "execution_count": 14,
      "outputs": [
        {
          "output_type": "stream",
          "text": [
            "-1547.456880419968\n",
            "5.408471123009611\n",
            "[2.53968557]\n",
            "[8.46931246]\n"
          ],
          "name": "stdout"
        }
      ]
    },
    {
      "cell_type": "code",
      "metadata": {
        "id": "ORuksRV_V5jD",
        "colab_type": "code",
        "colab": {
          "base_uri": "https://localhost:8080/",
          "height": 149
        },
        "outputId": "42839506-ce8e-4b03-fc54-ab2a25581ccf"
      },
      "source": [
        "model = RandomForestRegressor()\n",
        "model.fit(train_principal,train[:,-1])\n",
        "\n",
        "\n",
        "predictions = model.predict(test_principal)\n",
        "print(explained_variance_score(predictions,test[:,-1]))\n",
        "print(max_error(predictions,test[:,-1]))\n",
        "print(mean_absolute_error(predictions, test[:,-1], multioutput='raw_values'))\n",
        "print(mean_squared_error(predictions, test[:,-1], multioutput='raw_values'))"
      ],
      "execution_count": 16,
      "outputs": [
        {
          "output_type": "stream",
          "text": [
            "/usr/local/lib/python3.6/dist-packages/sklearn/ensemble/forest.py:245: FutureWarning: The default value of n_estimators will change from 10 in version 0.20 to 100 in 0.22.\n",
            "  \"10 in version 0.20 to 100 in 0.22.\", FutureWarning)\n"
          ],
          "name": "stderr"
        },
        {
          "output_type": "stream",
          "text": [
            "-9.092235523960634\n",
            "7.6\n",
            "[2.60101311]\n",
            "[9.21003774]\n"
          ],
          "name": "stdout"
        }
      ]
    },
    {
      "cell_type": "code",
      "metadata": {
        "id": "oG9txCVFX8cq",
        "colab_type": "code",
        "colab": {
          "base_uri": "https://localhost:8080/",
          "height": 126
        },
        "outputId": "f98f52c0-60cd-4c9f-facb-0000ea9e8255"
      },
      "source": [
        "from __future__ import absolute_import, division, print_function, unicode_literals\n",
        "\n",
        "import tensorflow as tf\n",
        "import numpy as np\n",
        "\n",
        "!pip install scipy\n",
        "from scipy import signal"
      ],
      "execution_count": 19,
      "outputs": [
        {
          "output_type": "display_data",
          "data": {
            "text/html": [
              "<p style=\"color: red;\">\n",
              "The default version of TensorFlow in Colab will soon switch to TensorFlow 2.x.<br>\n",
              "We recommend you <a href=\"https://www.tensorflow.org/guide/migrate\" target=\"_blank\">upgrade</a> now \n",
              "or ensure your notebook will continue to use TensorFlow 1.x via the <code>%tensorflow_version 1.x</code> magic:\n",
              "<a href=\"https://colab.research.google.com/notebooks/tensorflow_version.ipynb\" target=\"_blank\">more info</a>.</p>\n"
            ],
            "text/plain": [
              "<IPython.core.display.HTML object>"
            ]
          },
          "metadata": {
            "tags": []
          }
        },
        {
          "output_type": "stream",
          "text": [
            "Requirement already satisfied: scipy in /usr/local/lib/python3.6/dist-packages (1.3.2)\n",
            "Requirement already satisfied: numpy>=1.13.3 in /usr/local/lib/python3.6/dist-packages (from scipy) (1.17.4)\n"
          ],
          "name": "stdout"
        }
      ]
    },
    {
      "cell_type": "code",
      "metadata": {
        "id": "0HKaceEAV88n",
        "colab_type": "code",
        "colab": {
          "base_uri": "https://localhost:8080/",
          "height": 961
        },
        "outputId": "ee95f192-4eac-475c-93a8-8c2d2dcb5998"
      },
      "source": [
        "model = tf.keras.models.Sequential()\n",
        "model.add(tf.keras.layers.Dense(1024, input_dim=45, activation='relu'))\n",
        "model.add(tf.keras.layers.Dense(4096, activation='relu'))\n",
        "model.add(tf.keras.layers.Dropout(0.25))\n",
        "model.add(tf.keras.layers.Dense(4096, activation='relu'))\n",
        "model.add(tf.keras.layers.Dropout(0.25))\n",
        "model.add(tf.keras.layers.Dense(4096, activation='relu'))\n",
        "model.add(tf.keras.layers.Dense(11, activation='softmax'))\n",
        "alpha = 2e-3\n",
        "batch_size = 256\n",
        "num_epochs = 3000\n",
        "model.compile(\n",
        "      optimizer=tf.train.GradientDescentOptimizer(learning_rate=alpha, ),\n",
        "      loss=tf.keras.losses.sparse_categorical_crossentropy,\n",
        "      metrics=['sparse_categorical_accuracy', 'accuracy']\n",
        "  )\n",
        "\n",
        "History = model.fit(\n",
        "      x = train_principal,\n",
        "      y = train[:,-1],\n",
        "      batch_size = batch_size,\n",
        "      epochs=num_epochs,\n",
        "      #validation_data = (x_valid, y_valid),\n",
        "      #callbacks = [checkPointer,tensorBoard]\n",
        "  )\n",
        "predictions = model.predict(test_principal)"
      ],
      "execution_count": 21,
      "outputs": [
        {
          "output_type": "stream",
          "text": [
            "Train on 60000 samples\n",
            "Epoch 1/3000\n",
            "60000/60000 [==============================] - 3s 58us/sample - loss: nan - sparse_categorical_accuracy: 0.1003 - acc: 0.1003\n",
            "Epoch 2/3000\n",
            "60000/60000 [==============================] - 3s 44us/sample - loss: nan - sparse_categorical_accuracy: 0.1003 - acc: 0.1003\n",
            "Epoch 3/3000\n",
            "60000/60000 [==============================] - 3s 44us/sample - loss: nan - sparse_categorical_accuracy: 0.1003 - acc: 0.1003\n",
            "Epoch 4/3000\n",
            "60000/60000 [==============================] - 3s 44us/sample - loss: nan - sparse_categorical_accuracy: 0.1003 - acc: 0.1003\n",
            "Epoch 5/3000\n",
            "60000/60000 [==============================] - 3s 44us/sample - loss: nan - sparse_categorical_accuracy: 0.1003 - acc: 0.1003\n",
            "Epoch 6/3000\n",
            "60000/60000 [==============================] - 3s 44us/sample - loss: nan - sparse_categorical_accuracy: 0.1003 - acc: 0.1003\n",
            "Epoch 7/3000\n",
            "60000/60000 [==============================] - 3s 44us/sample - loss: nan - sparse_categorical_accuracy: 0.1003 - acc: 0.1003\n",
            "Epoch 8/3000\n",
            "60000/60000 [==============================] - 3s 44us/sample - loss: nan - sparse_categorical_accuracy: 0.1003 - acc: 0.1003\n",
            "Epoch 9/3000\n",
            "60000/60000 [==============================] - 3s 44us/sample - loss: nan - sparse_categorical_accuracy: 0.1003 - acc: 0.1003\n",
            "Epoch 10/3000\n",
            "60000/60000 [==============================] - 3s 44us/sample - loss: nan - sparse_categorical_accuracy: 0.1003 - acc: 0.1003\n",
            "Epoch 11/3000\n",
            "60000/60000 [==============================] - 3s 44us/sample - loss: nan - sparse_categorical_accuracy: 0.1003 - acc: 0.1003\n",
            "Epoch 12/3000\n",
            "60000/60000 [==============================] - 3s 44us/sample - loss: nan - sparse_categorical_accuracy: 0.1003 - acc: 0.1003\n",
            "Epoch 13/3000\n",
            "60000/60000 [==============================] - 3s 44us/sample - loss: nan - sparse_categorical_accuracy: 0.1003 - acc: 0.1003\n",
            "Epoch 14/3000\n",
            "60000/60000 [==============================] - 3s 44us/sample - loss: nan - sparse_categorical_accuracy: 0.1003 - acc: 0.1003\n",
            "Epoch 15/3000\n",
            "60000/60000 [==============================] - 3s 44us/sample - loss: nan - sparse_categorical_accuracy: 0.1003 - acc: 0.1003\n",
            "Epoch 16/3000\n",
            "46336/60000 [======================>.......] - ETA: 0s - loss: nan - sparse_categorical_accuracy: 0.1013 - acc: 0.1013"
          ],
          "name": "stdout"
        },
        {
          "output_type": "error",
          "ename": "KeyboardInterrupt",
          "evalue": "ignored",
          "traceback": [
            "\u001b[0;31m---------------------------------------------------------------------------\u001b[0m",
            "\u001b[0;31mKeyboardInterrupt\u001b[0m                         Traceback (most recent call last)",
            "\u001b[0;32m<ipython-input-21-faad4a90672b>\u001b[0m in \u001b[0;36m<module>\u001b[0;34m()\u001b[0m\n\u001b[1;32m     20\u001b[0m       \u001b[0my\u001b[0m \u001b[0;34m=\u001b[0m \u001b[0mtrain\u001b[0m\u001b[0;34m[\u001b[0m\u001b[0;34m:\u001b[0m\u001b[0;34m,\u001b[0m\u001b[0;34m-\u001b[0m\u001b[0;36m1\u001b[0m\u001b[0;34m]\u001b[0m\u001b[0;34m,\u001b[0m\u001b[0;34m\u001b[0m\u001b[0;34m\u001b[0m\u001b[0m\n\u001b[1;32m     21\u001b[0m       \u001b[0mbatch_size\u001b[0m \u001b[0;34m=\u001b[0m \u001b[0mbatch_size\u001b[0m\u001b[0;34m,\u001b[0m\u001b[0;34m\u001b[0m\u001b[0;34m\u001b[0m\u001b[0m\n\u001b[0;32m---> 22\u001b[0;31m       \u001b[0mepochs\u001b[0m\u001b[0;34m=\u001b[0m\u001b[0mnum_epochs\u001b[0m\u001b[0;34m,\u001b[0m\u001b[0;34m\u001b[0m\u001b[0;34m\u001b[0m\u001b[0m\n\u001b[0m\u001b[1;32m     23\u001b[0m       \u001b[0;31m#validation_data = (x_valid, y_valid),\u001b[0m\u001b[0;34m\u001b[0m\u001b[0;34m\u001b[0m\u001b[0;34m\u001b[0m\u001b[0m\n\u001b[1;32m     24\u001b[0m       \u001b[0;31m#callbacks = [checkPointer,tensorBoard]\u001b[0m\u001b[0;34m\u001b[0m\u001b[0;34m\u001b[0m\u001b[0;34m\u001b[0m\u001b[0m\n",
            "\u001b[0;32m/usr/local/lib/python3.6/dist-packages/tensorflow_core/python/keras/engine/training.py\u001b[0m in \u001b[0;36mfit\u001b[0;34m(self, x, y, batch_size, epochs, verbose, callbacks, validation_split, validation_data, shuffle, class_weight, sample_weight, initial_epoch, steps_per_epoch, validation_steps, validation_freq, max_queue_size, workers, use_multiprocessing, **kwargs)\u001b[0m\n\u001b[1;32m    725\u001b[0m         \u001b[0mmax_queue_size\u001b[0m\u001b[0;34m=\u001b[0m\u001b[0mmax_queue_size\u001b[0m\u001b[0;34m,\u001b[0m\u001b[0;34m\u001b[0m\u001b[0;34m\u001b[0m\u001b[0m\n\u001b[1;32m    726\u001b[0m         \u001b[0mworkers\u001b[0m\u001b[0;34m=\u001b[0m\u001b[0mworkers\u001b[0m\u001b[0;34m,\u001b[0m\u001b[0;34m\u001b[0m\u001b[0;34m\u001b[0m\u001b[0m\n\u001b[0;32m--> 727\u001b[0;31m         use_multiprocessing=use_multiprocessing)\n\u001b[0m\u001b[1;32m    728\u001b[0m \u001b[0;34m\u001b[0m\u001b[0m\n\u001b[1;32m    729\u001b[0m   def evaluate(self,\n",
            "\u001b[0;32m/usr/local/lib/python3.6/dist-packages/tensorflow_core/python/keras/engine/training_arrays.py\u001b[0m in \u001b[0;36mfit\u001b[0;34m(self, model, x, y, batch_size, epochs, verbose, callbacks, validation_split, validation_data, shuffle, class_weight, sample_weight, initial_epoch, steps_per_epoch, validation_steps, validation_freq, **kwargs)\u001b[0m\n\u001b[1;32m    673\u001b[0m         \u001b[0mvalidation_steps\u001b[0m\u001b[0;34m=\u001b[0m\u001b[0mvalidation_steps\u001b[0m\u001b[0;34m,\u001b[0m\u001b[0;34m\u001b[0m\u001b[0;34m\u001b[0m\u001b[0m\n\u001b[1;32m    674\u001b[0m         \u001b[0mvalidation_freq\u001b[0m\u001b[0;34m=\u001b[0m\u001b[0mvalidation_freq\u001b[0m\u001b[0;34m,\u001b[0m\u001b[0;34m\u001b[0m\u001b[0;34m\u001b[0m\u001b[0m\n\u001b[0;32m--> 675\u001b[0;31m         steps_name='steps_per_epoch')\n\u001b[0m\u001b[1;32m    676\u001b[0m \u001b[0;34m\u001b[0m\u001b[0m\n\u001b[1;32m    677\u001b[0m   def evaluate(self,\n",
            "\u001b[0;32m/usr/local/lib/python3.6/dist-packages/tensorflow_core/python/keras/engine/training_arrays.py\u001b[0m in \u001b[0;36mmodel_iteration\u001b[0;34m(model, inputs, targets, sample_weights, batch_size, epochs, verbose, callbacks, val_inputs, val_targets, val_sample_weights, shuffle, initial_epoch, steps_per_epoch, validation_steps, validation_freq, mode, validation_in_fit, prepared_feed_values_from_dataset, steps_name, **kwargs)\u001b[0m\n\u001b[1;32m    392\u001b[0m \u001b[0;34m\u001b[0m\u001b[0m\n\u001b[1;32m    393\u001b[0m         \u001b[0;31m# Get outputs.\u001b[0m\u001b[0;34m\u001b[0m\u001b[0;34m\u001b[0m\u001b[0;34m\u001b[0m\u001b[0m\n\u001b[0;32m--> 394\u001b[0;31m         \u001b[0mbatch_outs\u001b[0m \u001b[0;34m=\u001b[0m \u001b[0mf\u001b[0m\u001b[0;34m(\u001b[0m\u001b[0mins_batch\u001b[0m\u001b[0;34m)\u001b[0m\u001b[0;34m\u001b[0m\u001b[0;34m\u001b[0m\u001b[0m\n\u001b[0m\u001b[1;32m    395\u001b[0m         \u001b[0;32mif\u001b[0m \u001b[0;32mnot\u001b[0m \u001b[0misinstance\u001b[0m\u001b[0;34m(\u001b[0m\u001b[0mbatch_outs\u001b[0m\u001b[0;34m,\u001b[0m \u001b[0mlist\u001b[0m\u001b[0;34m)\u001b[0m\u001b[0;34m:\u001b[0m\u001b[0;34m\u001b[0m\u001b[0;34m\u001b[0m\u001b[0m\n\u001b[1;32m    396\u001b[0m           \u001b[0mbatch_outs\u001b[0m \u001b[0;34m=\u001b[0m \u001b[0;34m[\u001b[0m\u001b[0mbatch_outs\u001b[0m\u001b[0;34m]\u001b[0m\u001b[0;34m\u001b[0m\u001b[0;34m\u001b[0m\u001b[0m\n",
            "\u001b[0;32m/usr/local/lib/python3.6/dist-packages/tensorflow_core/python/keras/backend.py\u001b[0m in \u001b[0;36m__call__\u001b[0;34m(self, inputs)\u001b[0m\n\u001b[1;32m   3474\u001b[0m \u001b[0;34m\u001b[0m\u001b[0m\n\u001b[1;32m   3475\u001b[0m     fetched = self._callable_fn(*array_vals,\n\u001b[0;32m-> 3476\u001b[0;31m                                 run_metadata=self.run_metadata)\n\u001b[0m\u001b[1;32m   3477\u001b[0m     \u001b[0mself\u001b[0m\u001b[0;34m.\u001b[0m\u001b[0m_call_fetch_callbacks\u001b[0m\u001b[0;34m(\u001b[0m\u001b[0mfetched\u001b[0m\u001b[0;34m[\u001b[0m\u001b[0;34m-\u001b[0m\u001b[0mlen\u001b[0m\u001b[0;34m(\u001b[0m\u001b[0mself\u001b[0m\u001b[0;34m.\u001b[0m\u001b[0m_fetches\u001b[0m\u001b[0;34m)\u001b[0m\u001b[0;34m:\u001b[0m\u001b[0;34m]\u001b[0m\u001b[0;34m)\u001b[0m\u001b[0;34m\u001b[0m\u001b[0;34m\u001b[0m\u001b[0m\n\u001b[1;32m   3478\u001b[0m     output_structure = nest.pack_sequence_as(\n",
            "\u001b[0;32m/usr/local/lib/python3.6/dist-packages/tensorflow_core/python/client/session.py\u001b[0m in \u001b[0;36m__call__\u001b[0;34m(self, *args, **kwargs)\u001b[0m\n\u001b[1;32m   1470\u001b[0m         ret = tf_session.TF_SessionRunCallable(self._session._session,\n\u001b[1;32m   1471\u001b[0m                                                \u001b[0mself\u001b[0m\u001b[0;34m.\u001b[0m\u001b[0m_handle\u001b[0m\u001b[0;34m,\u001b[0m \u001b[0margs\u001b[0m\u001b[0;34m,\u001b[0m\u001b[0;34m\u001b[0m\u001b[0;34m\u001b[0m\u001b[0m\n\u001b[0;32m-> 1472\u001b[0;31m                                                run_metadata_ptr)\n\u001b[0m\u001b[1;32m   1473\u001b[0m         \u001b[0;32mif\u001b[0m \u001b[0mrun_metadata\u001b[0m\u001b[0;34m:\u001b[0m\u001b[0;34m\u001b[0m\u001b[0;34m\u001b[0m\u001b[0m\n\u001b[1;32m   1474\u001b[0m           \u001b[0mproto_data\u001b[0m \u001b[0;34m=\u001b[0m \u001b[0mtf_session\u001b[0m\u001b[0;34m.\u001b[0m\u001b[0mTF_GetBuffer\u001b[0m\u001b[0;34m(\u001b[0m\u001b[0mrun_metadata_ptr\u001b[0m\u001b[0;34m)\u001b[0m\u001b[0;34m\u001b[0m\u001b[0;34m\u001b[0m\u001b[0m\n",
            "\u001b[0;31mKeyboardInterrupt\u001b[0m: "
          ]
        }
      ]
    },
    {
      "cell_type": "code",
      "metadata": {
        "id": "ILxEVRvIZQqQ",
        "colab_type": "code",
        "colab": {}
      },
      "source": [
        ""
      ],
      "execution_count": 0,
      "outputs": []
    }
  ]
}